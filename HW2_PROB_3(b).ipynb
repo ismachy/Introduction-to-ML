{
 "cells": [
  {
   "cell_type": "code",
   "execution_count": null,
   "id": "f89cf916-4b83-461c-a48d-7851c0162638",
   "metadata": {},
   "outputs": [],
   "source": [
    "import numpy as np\n",
    "import pandas as pd\n",
    "import matplotlib.pyplot as plt     # Data Visualisation\n",
    "import seaborn as sns\n",
    "import sklearn"
   ]
  },
  {
   "cell_type": "code",
   "execution_count": null,
   "id": "901cd528-b516-415d-a3db-506ee1909dfc",
   "metadata": {},
   "outputs": [],
   "source": [
    "housing = pd.DataFrame(pd.read_csv(\"Housing.csv\"))\n",
    "housing.head()"
   ]
  },
  {
   "cell_type": "code",
   "execution_count": null,
   "id": "21252c4d-b2e7-4246-8ca4-6cab7f29a8a9",
   "metadata": {},
   "outputs": [],
   "source": [
    "m = len(housing)\n",
    "m"
   ]
  },
  {
   "cell_type": "code",
   "execution_count": null,
   "id": "1a654ac9-41de-4a90-9d16-661ce7b1772e",
   "metadata": {},
   "outputs": [],
   "source": [
    "housing.shape"
   ]
  },
  {
   "cell_type": "code",
   "execution_count": null,
   "id": "a9c75479-fec1-4c09-b98c-d81e4eb455bd",
   "metadata": {},
   "outputs": [],
   "source": [
    "varlist = ['mainroad', 'guestroom', 'basement', 'hotwaterheating', 'airconditioning', 'prefarea']\n",
    "\n",
    "# Defining the map function\n",
    "def binary_map(x):\n",
    "    return x.map({'yes': 1, \"no\": 0})\n",
    "\n",
    "# Applying the function to the housing list\n",
    "housing[varlist] = housing[varlist].apply(binary_map)\n",
    "           \n",
    "# Check the housing dataframe now\n",
    "housing.head()"
   ]
  },
  {
   "cell_type": "code",
   "execution_count": null,
   "id": "735c6e79-79a5-43e8-80e1-7aafeba2b93e",
   "metadata": {},
   "outputs": [],
   "source": [
    "#Splitting the Data into Training and Testing Sets\n",
    "from sklearn.model_selection import train_test_split\n",
    "\n",
    "np.random.seed(0)\n",
    "df_train, df_test = train_test_split(housing, train_size = 0.8, test_size = 0.2, random_state = 100)\n",
    "df_train.shape"
   ]
  },
  {
   "cell_type": "code",
   "execution_count": null,
   "id": "54526900-c63c-4d16-a3f8-709497e77565",
   "metadata": {},
   "outputs": [],
   "source": [
    "df_test.shape"
   ]
  },
  {
   "cell_type": "code",
   "execution_count": null,
   "id": "c95797e8-c401-4f37-924f-fdc4bd3dfe7d",
   "metadata": {},
   "outputs": [],
   "source": [
    "num_vars = ['area', 'bedrooms', 'bathrooms', 'stories', 'mainroad', 'guestroom', 'basement', 'hotwaterheating', 'airconditioning', 'parking', 'prefarea', 'price']\n",
    "df_Newtrain = df_train[num_vars]\n",
    "df_Newtest = df_test[num_vars]\n",
    "df_Newtrain.head()"
   ]
  },
  {
   "cell_type": "code",
   "execution_count": null,
   "id": "31d3bf46-6c44-4542-924a-5e90b2ab9a2e",
   "metadata": {},
   "outputs": [],
   "source": [
    "df_Newtrain.shape"
   ]
  },
  {
   "cell_type": "code",
   "execution_count": null,
   "id": "0ee3e370-df0f-4287-9bde-70c27ba11239",
   "metadata": {},
   "outputs": [],
   "source": [
    "import warnings\n",
    "warnings.filterwarnings('ignore')\n",
    "\n",
    "from sklearn.preprocessing import MinMaxScaler, StandardScaler\n",
    "\n",
    "#scaler = StandardScaler()\n",
    "scaler = MinMaxScaler()   # input Normalization\n",
    "df_Newtrain[num_vars] = scaler.fit_transform(df_Newtrain[num_vars])\n",
    "df_Newtrain.head(10)"
   ]
  },
  {
   "cell_type": "code",
   "execution_count": null,
   "id": "fc758063-ff1c-4141-9c1d-627d4513b803",
   "metadata": {},
   "outputs": [],
   "source": [
    "df_Newtest[num_vars] = scaler.fit_transform(df_Newtest[num_vars])\n",
    "df_Newtest.head(20)"
   ]
  },
  {
   "cell_type": "code",
   "execution_count": null,
   "id": "91c19c11-f20f-47f2-ae75-fd0375013289",
   "metadata": {},
   "outputs": [],
   "source": [
    "y_Newtrain = df_Newtrain.pop('price')\n",
    "X_Newtrain = df_Newtrain"
   ]
  },
  {
   "cell_type": "code",
   "execution_count": null,
   "id": "7a7561c4-d535-47b1-ba9b-9310c15bf6ce",
   "metadata": {},
   "outputs": [],
   "source": [
    "X_Newtrain.head()"
   ]
  },
  {
   "cell_type": "code",
   "execution_count": null,
   "id": "2ca38f7f-19fd-4e48-8269-50bcc6bd6e4c",
   "metadata": {},
   "outputs": [],
   "source": [
    "y_Newtrain.head()"
   ]
  },
  {
   "cell_type": "code",
   "execution_count": null,
   "id": "c4f4dfe4-2148-4cec-b6b1-7fd38d9ffce1",
   "metadata": {},
   "outputs": [],
   "source": [
    "y = y_Newtrain.values\n",
    "print('y = ', y[: 10])"
   ]
  },
  {
   "cell_type": "code",
   "execution_count": null,
   "id": "2d54dd9a-a7fd-4694-8937-0eba0a32e37b",
   "metadata": {},
   "outputs": [],
   "source": [
    "# the training set\n",
    "\n",
    "X1 = df_Newtrain.values[:, 0]                \n",
    "X2 = df_Newtrain.values[:, 1]               \n",
    "X3 = df_Newtrain.values[:, 2]               \n",
    "X4 = df_Newtrain.values[:, 3]                \n",
    "X5 = df_Newtrain.values[:, 4]              \n",
    "X6 = df_Newtrain.values[:, 5]      \n",
    "X7 = df_Newtrain.values[:, 6]     \n",
    "X8 = df_Newtrain.values[:, 7]      \n",
    "X9 = df_Newtrain.values[:, 8]      \n",
    "X10 = df_Newtrain.values[:, 9]     \n",
    "X11 = df_Newtrain.values[:, 10] "
   ]
  },
  {
   "cell_type": "code",
   "execution_count": null,
   "id": "d34c26e9-920c-47e3-980e-77e0ed0e85a1",
   "metadata": {},
   "outputs": [],
   "source": [
    "m = len(X_Newtrain)         # size of training set\n",
    "X_0 = np.ones((m, 1))       \n",
    "X_0 [: 5]"
   ]
  },
  {
   "cell_type": "code",
   "execution_count": null,
   "id": "51b3dc3c-e1b9-404a-9a83-d9b9d22a71d1",
   "metadata": {},
   "outputs": [],
   "source": [
    "X_1 = X1.reshape(m, 1)\n",
    "X_2 = X2.reshape(m, 1)\n",
    "X_3 = X3.reshape(m, 1)\n",
    "X_4 = X4.reshape(m, 1)\n",
    "X_5 = X5.reshape(m, 1)\n",
    "X_6 = X6.reshape(m, 1)\n",
    "X_7 = X7.reshape(m, 1)\n",
    "X_8 = X8.reshape(m, 1)\n",
    "X_9 = X9.reshape(m, 1)\n",
    "X_10 = X10.reshape(m, 1)\n",
    "X_11 = X11.reshape(m, 1)"
   ]
  },
  {
   "cell_type": "code",
   "execution_count": null,
   "id": "1eddbcea-d92d-478c-9adf-bae9289720a3",
   "metadata": {},
   "outputs": [],
   "source": [
    "# Stacking from X_0 to X_11 horizotally\n",
    "# This is the final X Matrix for training\n",
    "\n",
    "X = np.hstack((X_0, X_1, X_2, X_3, X_4, X_5, X_6, X_7, X_8, X_9, X_10, X_11))\n",
    "X [: 5]"
   ]
  },
  {
   "cell_type": "code",
   "execution_count": null,
   "id": "618faa0a-1f5d-411a-9ed1-5ff6a4ecb5bd",
   "metadata": {},
   "outputs": [],
   "source": [
    "theta = np.zeros(12)\n",
    "theta"
   ]
  },
  {
   "cell_type": "code",
   "execution_count": null,
   "id": "f9c2c4ed-efc2-4c39-96bd-e380b9ee1c25",
   "metadata": {},
   "outputs": [],
   "source": [
    "y_Newtest = df_Newtest.pop('price')\n",
    "X_Newtest = df_Newtest"
   ]
  },
  {
   "cell_type": "code",
   "execution_count": null,
   "id": "9b26a9e0-44a4-4730-830f-61f107486a7a",
   "metadata": {},
   "outputs": [],
   "source": [
    "X_Newtest.head()"
   ]
  },
  {
   "cell_type": "code",
   "execution_count": null,
   "id": "5e8ca417-e217-4d14-b90c-05951ac19cb7",
   "metadata": {},
   "outputs": [],
   "source": [
    "y_Newtest.head()"
   ]
  },
  {
   "cell_type": "code",
   "execution_count": null,
   "id": "62743b38-006f-4191-a73e-417d47fcd227",
   "metadata": {},
   "outputs": [],
   "source": [
    "y_test = y_Newtest.values\n",
    "print('y_test = ', y_test[: 10])"
   ]
  },
  {
   "cell_type": "code",
   "execution_count": null,
   "id": "d69dfba1-8a54-4494-837c-7780dfc52959",
   "metadata": {},
   "outputs": [],
   "source": [
    "# validarion set\n",
    "X1_test = df_Newtest.values[:, 0]                 \n",
    "X2_test = df_Newtest.values[:, 1]                \n",
    "X3_test = df_Newtest.values[:, 2]              \n",
    "X4_test = df_Newtest.values[:, 3]               \n",
    "X5_test = df_Newtest.values[:, 4]     \n",
    "X6_test = df_Newtest.values[:, 5]               \n",
    "X7_test = df_Newtest.values[:, 6]            \n",
    "X8_test = df_Newtest.values[:, 7]               \n",
    "X9_test = df_Newtest.values[:, 8]                \n",
    "X10_test = df_Newtest.values[:, 9]   \n",
    "X11_test = df_Newtest.values[:, 10]"
   ]
  },
  {
   "cell_type": "code",
   "execution_count": null,
   "id": "b27414f1-acb8-400b-8bf2-d4090fe21586",
   "metadata": {},
   "outputs": [],
   "source": [
    "m_test = len(X_Newtest)             # size of validation set\n",
    "X_0_test = np.ones((m_test, 1))    \n",
    "X_0_test [: 5]"
   ]
  },
  {
   "cell_type": "code",
   "execution_count": null,
   "id": "c669a5bf-ad55-4dd8-98b0-208c6b6d9f0a",
   "metadata": {},
   "outputs": [],
   "source": [
    "X_1_test = X1_test.reshape(m_test, 1)\n",
    "X_2_test = X2_test.reshape(m_test, 1)\n",
    "X_3_test = X3_test.reshape(m_test, 1)\n",
    "X_4_test = X4_test.reshape(m_test, 1)\n",
    "X_5_test = X5_test.reshape(m_test, 1)\n",
    "X_6_test = X6_test.reshape(m_test, 1)\n",
    "X_7_test = X7_test.reshape(m_test, 1)\n",
    "X_8_test = X8_test.reshape(m_test, 1)\n",
    "X_9_test = X9_test.reshape(m_test, 1)\n",
    "X_10_test = X10_test.reshape(m_test, 1)\n",
    "X_11_test = X11_test.reshape(m_test, 1)"
   ]
  },
  {
   "cell_type": "code",
   "execution_count": null,
   "id": "a4e6efe3-fd12-4382-9972-eb34bc051bc7",
   "metadata": {},
   "outputs": [],
   "source": [
    "# Stacking X_0_test through X_11_test horizotally\n",
    "# This is the final X Matrix for validation\n",
    "\n",
    "X_test = np.hstack((X_0_test, X_1_test, X_2_test, X_3_test, X_4_test, X_5_test, X_6_test, X_7_test, X_8_test, X_9_test, X_10_test, X_11_test))\n",
    "X_test [: 5]"
   ]
  },
  {
   "cell_type": "code",
   "execution_count": null,
   "id": "aa1cb003-91dc-48ff-81a6-cc31c27f1ccc",
   "metadata": {},
   "outputs": [],
   "source": [
    "# defining function for computing the cost for linear regression\n",
    "\n",
    "def compute_cost(X, y, theta, m):\n",
    "    predictions = X.dot(theta)\n",
    "    errors = np.subtract(predictions, y)\n",
    "    sqrErrors = np.square(errors)\n",
    "    J = 1 / (2 * m) * np.sum(sqrErrors)\n",
    "    return J"
   ]
  },
  {
   "cell_type": "code",
   "execution_count": null,
   "id": "07d37a73-28a9-428a-bf42-31de2157cc76",
   "metadata": {},
   "outputs": [],
   "source": [
    "cost = compute_cost(X, y, theta, m)\n",
    "cost"
   ]
  },
  {
   "cell_type": "code",
   "execution_count": null,
   "id": "7eef45a1-6d20-4b83-b2c0-79b7d70dc8b2",
   "metadata": {},
   "outputs": [],
   "source": [
    "# gradient descent algorithm\n",
    "\n",
    "def gradient_descent(X, y, theta, alpha, iterations):\n",
    "    cost_history = np.zeros(iterations)\n",
    "    cost_test = np.zeros(iterations)\n",
    "    for i in range(iterations):\n",
    "        predictions = X.dot(theta)\n",
    "        errors = np.subtract(predictions, y)\n",
    "        sum_delta = (alpha / m) * X.transpose().dot(errors);\n",
    "        theta = theta*(1-alpha*(lam/m)) - (lam/m) * X.transpose().dot(errors)\n",
    "        cost_history[i] = compute_cost(X, y, theta, m)                     # loss for training set\n",
    "        cost_test[i] = compute_cost(X_test, y_test, theta, m_test)         # loss for validation set\n",
    "    \n",
    "    return theta, cost_history, cost_test"
   ]
  },
  {
   "cell_type": "code",
   "execution_count": null,
   "id": "5574c237-4d51-4f21-bd7c-439527e8b95e",
   "metadata": {},
   "outputs": [],
   "source": [
    "theta = [0., 0., 0., 0., 0., 0., 0., 0., 0., 0., 0., 0.]\n",
    "iterations = 600;\n",
    "lam = 0.001\n",
    "alpha = 0.02"
   ]
  },
  {
   "cell_type": "code",
   "execution_count": null,
   "id": "7dc1582e-eb7c-474a-9dae-eb10c1e715e2",
   "metadata": {},
   "outputs": [],
   "source": [
    "theta, cost_history, cost_test = gradient_descent(X, y, theta, alpha, iterations)\n",
    "print('Final value of theta=', theta)\n",
    "print('cost_history =', cost_history)\n",
    "print('cost_test =', cost_test)"
   ]
  },
  {
   "cell_type": "code",
   "execution_count": null,
   "id": "712a99af-4b04-4a92-9612-f854d79e25fa",
   "metadata": {},
   "outputs": [],
   "source": [
    "plt.plot(range(1, iterations + 1),cost_history, color='green', label= 'Loss for Training Set')\n",
    "plt.plot(range(1, iterations + 1),cost_test, color='red', label= 'Loss for Validation Set')\n",
    "plt.rcParams[\"figure.figsize\"] = (10,6)\n",
    "plt.grid()\n",
    "plt.legend()\n",
    "plt.xlabel('Number of Iterations')\n",
    "plt.ylabel('Cost (J)')\n",
    "plt.title('Convergence of Gradient Descent')"
   ]
  },
  {
   "cell_type": "code",
   "execution_count": null,
   "id": "cb236d89-8181-40c2-8c33-62f82c85d8fd",
   "metadata": {},
   "outputs": [],
   "source": []
  }
 ],
 "metadata": {
  "kernelspec": {
   "display_name": "Python 3 (ipykernel)",
   "language": "python",
   "name": "python3"
  },
  "language_info": {
   "codemirror_mode": {
    "name": "ipython",
    "version": 3
   },
   "file_extension": ".py",
   "mimetype": "text/x-python",
   "name": "python",
   "nbconvert_exporter": "python",
   "pygments_lexer": "ipython3",
   "version": "3.9.13"
  }
 },
 "nbformat": 4,
 "nbformat_minor": 5
}
