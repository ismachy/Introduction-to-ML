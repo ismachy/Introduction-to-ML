{
 "cells": [
  {
   "cell_type": "code",
   "execution_count": null,
   "id": "3aff0b54-d128-4311-8f7e-0ce933815f4b",
   "metadata": {},
   "outputs": [],
   "source": [
    "import numpy as np\n",
    "import pandas as pd\n",
    "import matplotlib.pyplot as plt\n",
    "import seaborn as sns\n",
    "import sklearn"
   ]
  },
  {
   "cell_type": "code",
   "execution_count": null,
   "id": "38593aab-03fe-4101-8663-c53003d5ed2f",
   "metadata": {},
   "outputs": [],
   "source": [
    "housing = pd.DataFrame(pd.read_csv(\"Housing.csv\"))\n",
    "housing.head()"
   ]
  },
  {
   "cell_type": "code",
   "execution_count": null,
   "id": "3a10835a-faa4-4b34-9e9c-e07bbc589973",
   "metadata": {},
   "outputs": [],
   "source": [
    "m = len(housing)\n",
    "m"
   ]
  },
  {
   "cell_type": "code",
   "execution_count": null,
   "id": "edbffe9e-bae8-442d-a1a7-891599ed52c6",
   "metadata": {},
   "outputs": [],
   "source": [
    "housing.shape"
   ]
  },
  {
   "cell_type": "code",
   "execution_count": null,
   "id": "2ea964fd-fa2d-418e-84e7-4ea73e423d35",
   "metadata": {},
   "outputs": [],
   "source": [
    "varlist = ['mainroad', 'guestroom', 'basement', 'hotwaterheating', 'airconditioning', 'prefarea']\n",
    "\n",
    "# Defining the map function\n",
    "def binary_map(x):\n",
    "    return x.map({'yes': 1, \"no\": 0})\n",
    "\n",
    "# Applying the function to the housing list\n",
    "housing[varlist] = housing[varlist].apply(binary_map)\n",
    "           \n",
    "# Check the housing dataframe now\n",
    "housing.head()"
   ]
  },
  {
   "cell_type": "code",
   "execution_count": null,
   "id": "608f6150-1084-407e-bc18-df084f617660",
   "metadata": {},
   "outputs": [],
   "source": [
    "#Splitting the Data into Training and Testing Sets\n",
    "from sklearn.model_selection import train_test_split\n",
    "np.random.seed(0)\n",
    "df_train, df_test = train_test_split(housing, train_size = 0.8, test_size = 0.2, random_state = 100)\n",
    "\n",
    "df_train.shape"
   ]
  },
  {
   "cell_type": "code",
   "execution_count": null,
   "id": "f4977aeb-7870-4d9c-8f1c-b8e7f2745c73",
   "metadata": {},
   "outputs": [],
   "source": [
    "df_test.shape"
   ]
  },
  {
   "cell_type": "code",
   "execution_count": null,
   "id": "b695b2e8-fab3-4496-bffa-92b3e3617358",
   "metadata": {},
   "outputs": [],
   "source": [
    "num_vars = ['area', 'bedrooms', 'bathrooms', 'stories', 'parking','price']\n",
    "df_Newtrain = df_train[num_vars]\n",
    "df_Newtest = df_test[num_vars]\n",
    "df_Newtrain.head()"
   ]
  },
  {
   "cell_type": "code",
   "execution_count": null,
   "id": "cece3ad1-059a-42f9-92eb-6a090c56b8c3",
   "metadata": {},
   "outputs": [],
   "source": [
    "df_Newtrain.shape"
   ]
  },
  {
   "cell_type": "code",
   "execution_count": null,
   "id": "03788a5d-bd69-46a9-8d8f-b8571fc415f1",
   "metadata": {},
   "outputs": [],
   "source": [
    "y_Newtrain = df_Newtrain.pop('price')\n",
    "X_Newtrain = df_Newtrain"
   ]
  },
  {
   "cell_type": "code",
   "execution_count": null,
   "id": "ba4d4f55-c010-4ca7-9b7d-02ffd7d72fdd",
   "metadata": {},
   "outputs": [],
   "source": [
    "X_Newtrain.head()"
   ]
  },
  {
   "cell_type": "code",
   "execution_count": null,
   "id": "9b423d5f-6675-41c6-8abb-1523d39ef9e8",
   "metadata": {},
   "outputs": [],
   "source": [
    "y_Newtrain.head()"
   ]
  },
  {
   "cell_type": "code",
   "execution_count": null,
   "id": "6eeb02c7-ffb6-433c-93ed-08520e4cfee4",
   "metadata": {},
   "outputs": [],
   "source": [
    "y = y_Newtrain.values\n",
    "print('y = ', y[: 10])"
   ]
  },
  {
   "cell_type": "code",
   "execution_count": null,
   "id": "79e61575-9ab4-4167-be00-2160d9aa7165",
   "metadata": {},
   "outputs": [],
   "source": [
    "X1 = df_Newtrain.values[:, 0]       \n",
    "X2 = df_Newtrain.values[:, 1]               \n",
    "X3 = df_Newtrain.values[:, 2]              \n",
    "X4 = df_Newtrain.values[:, 3]               \n",
    "X5 = df_Newtrain.values[:, 4]   "
   ]
  },
  {
   "cell_type": "code",
   "execution_count": null,
   "id": "4b7ba034-8713-42c4-8208-0c1d1702acd0",
   "metadata": {},
   "outputs": [],
   "source": [
    "m = len(X_Newtrain)         # size of training set\n",
    "X_0 = np.ones((m, 1))        \n",
    "X_0 [: 5]"
   ]
  },
  {
   "cell_type": "code",
   "execution_count": null,
   "id": "d6e6f84b-1021-4f84-81ff-a0b9d303e334",
   "metadata": {},
   "outputs": [],
   "source": [
    "X_1 = X1.reshape(m, 1)\n",
    "X_2 = X2.reshape(m, 1)\n",
    "X_3 = X3.reshape(m, 1)\n",
    "X_4 = X4.reshape(m, 1)\n",
    "X_5 = X5.reshape(m, 1)"
   ]
  },
  {
   "cell_type": "code",
   "execution_count": null,
   "id": "77c7e0e8-0213-4bcf-b003-781d381d08c8",
   "metadata": {},
   "outputs": [],
   "source": [
    "X = np.hstack((X_0, X_1, X_2, X_3, X_4, X_5))\n",
    "X [: 5]"
   ]
  },
  {
   "cell_type": "code",
   "execution_count": null,
   "id": "673c1741-69da-48a6-8dca-afc50c291926",
   "metadata": {},
   "outputs": [],
   "source": [
    "theta = np.zeros(6)\n",
    "theta"
   ]
  },
  {
   "cell_type": "code",
   "execution_count": null,
   "id": "c510f4db-c55b-4bba-92de-1f409606613b",
   "metadata": {},
   "outputs": [],
   "source": [
    "y_Newtest = df_Newtest.pop('price')\n",
    "X_Newtest = df_Newtest"
   ]
  },
  {
   "cell_type": "code",
   "execution_count": null,
   "id": "6367fd7e-bd1d-4b02-867a-7efd065a24c4",
   "metadata": {},
   "outputs": [],
   "source": [
    "X_Newtest.head()"
   ]
  },
  {
   "cell_type": "code",
   "execution_count": null,
   "id": "895229b7-692a-4dd9-a0fd-72705d92daa2",
   "metadata": {},
   "outputs": [],
   "source": [
    "y_Newtest.head()"
   ]
  },
  {
   "cell_type": "code",
   "execution_count": null,
   "id": "87b5b97a-f56f-4489-8c7c-c567d4ae535d",
   "metadata": {},
   "outputs": [],
   "source": [
    "y_test = y_Newtest.values\n",
    "print('y_test = ', y_test[: 10])"
   ]
  },
  {
   "cell_type": "code",
   "execution_count": null,
   "id": "75ba9cd2-334d-4039-b03e-932c98f06742",
   "metadata": {},
   "outputs": [],
   "source": [
    "# preparing the testing/validation set\n",
    "X1_test = df_Newtest.values[:, 0]                 \n",
    "X2_test = df_Newtest.values[:, 1]                 \n",
    "X3_test = df_Newtest.values[:, 2]                \n",
    "X4_test = df_Newtest.values[:, 3]               \n",
    "X5_test = df_Newtest.values[:, 4]     "
   ]
  },
  {
   "cell_type": "code",
   "execution_count": null,
   "id": "a5ce21af-7c2c-4c11-a117-c5faa38105ce",
   "metadata": {},
   "outputs": [],
   "source": [
    "m_test = len(X_Newtest)             # size of validation set\n",
    "X_0_test = np.ones((m_test, 1))     \n",
    "X_0_test [: 5]"
   ]
  },
  {
   "cell_type": "code",
   "execution_count": null,
   "id": "178dd78e-83c5-49ae-9492-abf5d5ee4ddc",
   "metadata": {},
   "outputs": [],
   "source": [
    "X_1_test = X1_test.reshape(m_test, 1)\n",
    "X_2_test = X2_test.reshape(m_test, 1)\n",
    "X_3_test = X3_test.reshape(m_test, 1)\n",
    "X_4_test = X4_test.reshape(m_test, 1)\n",
    "X_5_test = X5_test.reshape(m_test, 1)"
   ]
  },
  {
   "cell_type": "code",
   "execution_count": null,
   "id": "97f556e0-a25e-4eb8-94cc-fb3fccfacca2",
   "metadata": {},
   "outputs": [],
   "source": [
    "# Stacking X_0_test through X_5_test horizontally\n",
    "# This is the final X Matrix for validation\n",
    "X_test = np.hstack((X_0_test, X_1_test, X_2_test, X_3_test, X_4_test, X_5_test))\n",
    "X_test [: 5]"
   ]
  },
  {
   "cell_type": "code",
   "execution_count": null,
   "id": "1c328950-1b2e-4225-8d77-644fb1523842",
   "metadata": {},
   "outputs": [],
   "source": [
    "# defining function for computing the cost for linear regression\n",
    "\n",
    "def compute_cost(X, y, theta, m):\n",
    "    predictions = X.dot(theta)\n",
    "    errors = np.subtract(predictions, y)\n",
    "    sqrErrors = np.square(errors)\n",
    "    J = 1 / (2 * m) * np.sum(sqrErrors)\n",
    "    return J"
   ]
  },
  {
   "cell_type": "code",
   "execution_count": null,
   "id": "144908ba-566e-4711-8b58-4c0e4962e54f",
   "metadata": {},
   "outputs": [],
   "source": [
    "# computing the cost for initial theta values\n",
    "\n",
    "cost = compute_cost(X, y, theta, m)\n",
    "cost"
   ]
  },
  {
   "cell_type": "code",
   "execution_count": null,
   "id": "306a5610-cecd-44cb-bfdd-e197348b7d7c",
   "metadata": {},
   "outputs": [],
   "source": [
    "# gradient descent algorithm\n",
    "\n",
    "def gradient_descent(X, y, theta, alpha, iterations):\n",
    "    cost_history = np.zeros(iterations)\n",
    "    cost_test = np.zeros(iterations)\n",
    "    for i in range(iterations):\n",
    "        predictions = X.dot(theta)\n",
    "        errors = np.subtract(predictions, y)\n",
    "        sum_delta = (alpha / m) * X.transpose().dot(errors);\n",
    "        theta = theta - sum_delta;\n",
    "        cost_history[i] = compute_cost(X, y, theta, m)                     # loss for training set\n",
    "        cost_test[i] = compute_cost(X_test, y_test, theta, m_test)         # loss for validation set\n",
    "    \n",
    "    return theta, cost_history, cost_test"
   ]
  },
  {
   "cell_type": "code",
   "execution_count": null,
   "id": "d5f7bf54-56a9-4ced-aa3e-94b032dccaf8",
   "metadata": {},
   "outputs": [],
   "source": [
    "theta = [0., 0., 0., 0., 0., 0.]\n",
    "iterations = 200;\n",
    "alpha = 0.01"
   ]
  },
  {
   "cell_type": "code",
   "execution_count": null,
   "id": "e94b415e-e500-4bd6-b95c-e687d9a82f5e",
   "metadata": {},
   "outputs": [],
   "source": [
    "# Computing final theta values and cost/losses for training and validation set\n",
    "\n",
    "theta, cost_history, cost_test = gradient_descent(X, y, theta, alpha, iterations)\n",
    "print('Final value of theta=', theta)\n",
    "print('cost_history =', cost_history)\n",
    "print('cost_test =', cost_test)"
   ]
  },
  {
   "cell_type": "code",
   "execution_count": null,
   "id": "c304c24b-adb6-4934-b449-fff974e00fee",
   "metadata": {},
   "outputs": [],
   "source": [
    "plt.plot(range(1, iterations + 1),cost_history, color='green', label= 'Loss for Training Set')\n",
    "plt.plot(range(1, iterations + 1),cost_test, color='red', label= 'Loss for Validation Set')\n",
    "plt.rcParams[\"figure.figsize\"] = (10,6)\n",
    "plt.grid()\n",
    "plt.legend()\n",
    "plt.xlabel('Number of Iterations')\n",
    "plt.ylabel('Cost (J)')\n",
    "plt.title('Convergence of Gradient Descent')"
   ]
  },
  {
   "cell_type": "code",
   "execution_count": null,
   "id": "068c9178-d4d6-4afa-bb33-66dd12dc2aa9",
   "metadata": {},
   "outputs": [],
   "source": []
  }
 ],
 "metadata": {
  "kernelspec": {
   "display_name": "Python 3 (ipykernel)",
   "language": "python",
   "name": "python3"
  },
  "language_info": {
   "codemirror_mode": {
    "name": "ipython",
    "version": 3
   },
   "file_extension": ".py",
   "mimetype": "text/x-python",
   "name": "python",
   "nbconvert_exporter": "python",
   "pygments_lexer": "ipython3",
   "version": "3.9.13"
  }
 },
 "nbformat": 4,
 "nbformat_minor": 5
}
