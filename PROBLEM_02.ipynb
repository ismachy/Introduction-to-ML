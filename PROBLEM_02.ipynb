{
 "cells": [
  {
   "cell_type": "code",
   "execution_count": 105,
   "id": "428c3309-fa66-4f67-8f02-9cb12e8de053",
   "metadata": {},
   "outputs": [],
   "source": [
    "import numpy as np\n",
    "import pandas as pd\n",
    "import matplotlib.pyplot as plt"
   ]
  },
  {
   "cell_type": "code",
   "execution_count": 106,
   "id": "fe0b4bf9-b8d3-4af4-9a01-05496278793e",
   "metadata": {},
   "outputs": [
    {
     "name": "stdout",
     "output_type": "stream",
     "text": [
      "X1 =  [0.         0.04040404 0.08080808 0.12121212 0.16161616]\n",
      "X2 =  [3.44       0.1349495  0.82989899 1.52484848 2.21979798]\n",
      "X3 =  [0.44       0.88848485 1.3369697  1.78545454 2.23393939]\n",
      "y =  [4.38754501 2.6796499  2.96848981 3.25406475 3.53637472]\n",
      "m =  100\n"
     ]
    }
   ],
   "source": [
    "df = pd.read_csv('D3.csv')\n",
    "X1 = df.values[:, 0]               \n",
    "X2 = df.values[:, 1]                \n",
    "X3 = df.values[:, 2]               \n",
    "y = df.values[:, 3]                \n",
    "m = len(y)\n",
    "print('X1 = ', X1[: 5]) \n",
    "print('X2 = ', X2[: 5])\n",
    "print('X3 = ', X3[: 5])\n",
    "print('y = ', y[: 5])\n",
    "print('m = ', m)"
   ]
  },
  {
   "cell_type": "code",
   "execution_count": 107,
   "id": "d7df1bc8-6d4b-42ca-b378-3f14920d96a4",
   "metadata": {},
   "outputs": [
    {
     "data": {
      "text/plain": [
       "array([[1.],\n",
       "       [1.],\n",
       "       [1.],\n",
       "       [1.],\n",
       "       [1.]])"
      ]
     },
     "execution_count": 107,
     "metadata": {},
     "output_type": "execute_result"
    }
   ],
   "source": [
    "X_0 = np.ones((m, 1))            \n",
    "X_0[:5]"
   ]
  },
  {
   "cell_type": "code",
   "execution_count": 108,
   "id": "95b5d478-bffb-4812-b360-c1ac393852c5",
   "metadata": {},
   "outputs": [
    {
     "name": "stdout",
     "output_type": "stream",
     "text": [
      "X_1 =  [[0.        ]\n",
      " [0.04040404]\n",
      " [0.08080808]\n",
      " [0.12121212]\n",
      " [0.16161616]]\n",
      "X_2 =  [[3.44      ]\n",
      " [0.1349495 ]\n",
      " [0.82989899]\n",
      " [1.52484848]\n",
      " [2.21979798]]\n",
      "X_3 =  [[0.44      ]\n",
      " [0.88848485]\n",
      " [1.3369697 ]\n",
      " [1.78545454]\n",
      " [2.23393939]]\n"
     ]
    }
   ],
   "source": [
    "X_1 = X1.reshape(m, 1)\n",
    "X_2 = X2.reshape(m, 1)\n",
    "X_3 = X3.reshape(m, 1)\n",
    "print('X_1 = ', X_1[: 5])\n",
    "print('X_2 = ', X_2[: 5])\n",
    "print('X_3 = ', X_3[: 5])"
   ]
  },
  {
   "cell_type": "code",
   "execution_count": 109,
   "id": "8ecdfdee-0544-4f25-8317-3aa3f8d54566",
   "metadata": {},
   "outputs": [
    {
     "data": {
      "text/plain": [
       "array([[1.        , 0.        , 3.44      , 0.44      ],\n",
       "       [1.        , 0.04040404, 0.1349495 , 0.88848485],\n",
       "       [1.        , 0.08080808, 0.82989899, 1.3369697 ],\n",
       "       [1.        , 0.12121212, 1.52484848, 1.78545454],\n",
       "       [1.        , 0.16161616, 2.21979798, 2.23393939]])"
      ]
     },
     "execution_count": 109,
     "metadata": {},
     "output_type": "execute_result"
    }
   ],
   "source": [
    "X = np.hstack((X_0, X_1, X_2, X_3))\n",
    "X [: 5]"
   ]
  },
  {
   "cell_type": "code",
   "execution_count": 110,
   "id": "17f3837f-6814-4f51-921c-258060a55ae3",
   "metadata": {},
   "outputs": [
    {
     "data": {
      "text/plain": [
       "array([0., 0., 0., 0.])"
      ]
     },
     "execution_count": 110,
     "metadata": {},
     "output_type": "execute_result"
    }
   ],
   "source": [
    "theta = np.zeros(4)\n",
    "theta"
   ]
  },
  {
   "cell_type": "code",
   "execution_count": 111,
   "id": "59af1525-47fa-4d1d-b3b0-8220dc9d6f73",
   "metadata": {},
   "outputs": [],
   "source": [
    "def compute_cost(X, y, theta):\n",
    "    predictions = X.dot(theta)\n",
    "    errors = np.subtract(predictions, y)\n",
    "    sqrErrors = np.square(errors)\n",
    "    J = 1 / (2 * m) * np.sum(sqrErrors)\n",
    "    return J"
   ]
  },
  {
   "cell_type": "code",
   "execution_count": 112,
   "id": "d5b20877-2757-41b6-954e-6ec44498db4a",
   "metadata": {},
   "outputs": [],
   "source": [
    "def gradient_descent(X, y, theta, alpha, iterations):\n",
    "    cost_history = np.zeros(iterations)\n",
    "    for i in range(iterations):\n",
    "        predictions = X.dot(theta)\n",
    "        errors = np.subtract(predictions, y)\n",
    "        sum_delta = (alpha / m) * X.transpose().dot(errors);\n",
    "        theta = theta - sum_delta;\n",
    "        cost_history[i] = compute_cost(X, y, theta)\n",
    "    \n",
    "    return theta, cost_history"
   ]
  },
  {
   "cell_type": "code",
   "execution_count": 113,
   "id": "651ab7e2-2f8d-4bf2-82a9-c2250658ff36",
   "metadata": {},
   "outputs": [
    {
     "data": {
      "text/plain": [
       "5.524438459196242"
      ]
     },
     "execution_count": 113,
     "metadata": {},
     "output_type": "execute_result"
    }
   ],
   "source": [
    "cost = compute_cost(X, y, theta)\n",
    "cost"
   ]
  },
  {
   "cell_type": "code",
   "execution_count": 114,
   "id": "71f8c8a4-d18b-4db4-aa0c-f5bc556d7cea",
   "metadata": {},
   "outputs": [],
   "source": [
    "theta = [0., 0., 0., 0.]\n",
    "iterations = 1500;\n",
    "alpha = 0.02"
   ]
  },
  {
   "cell_type": "code",
   "execution_count": 115,
   "id": "8120b5c5-50be-415e-91e4-ebb7bcd2db00",
   "metadata": {},
   "outputs": [
    {
     "name": "stdout",
     "output_type": "stream",
     "text": [
      "Final value of theta= [ 5.0540181  -1.96696891  0.57555136 -0.2274693 ]\n",
      "cost_history = [4.9441034  4.58765223 4.34920128 ... 0.74209818 0.74208371 0.74206929]\n"
     ]
    }
   ],
   "source": [
    "theta, cost_history = gradient_descent(X, y, theta, alpha, iterations)\n",
    "print('Final value of theta=', theta)\n",
    "print('cost_history =', cost_history)"
   ]
  },
  {
   "cell_type": "code",
   "execution_count": 116,
   "id": "4100a5a6-b413-4ef7-aaed-1aa92ffbba4f",
   "metadata": {},
   "outputs": [
    {
     "data": {
      "text/plain": [
       "Text(0.5, 1.0, 'Convergence of gradient descent')"
      ]
     },
     "execution_count": 116,
     "metadata": {},
     "output_type": "execute_result"
    },
    {
     "data": {
      "image/png": "[encoded data removed]",
      "text/plain": [
       "<Figure size 720x432 with 1 Axes>"
      ]
     },
     "metadata": {
      "needs_background": "light"
     },
     "output_type": "display_data"
    }
   ],
   "source": [
    "plt.plot(range(1, iterations + 1),cost_history, color='blue')\n",
    "plt.rcParams[\"figure.figsize\"] = (10,6)\n",
    "plt.grid()\n",
    "plt.xlabel('Number of iterations')\n",
    "plt.ylabel('Cost (J)')\n",
    "plt.title('Convergence of gradient descent')"
   ]
  },
  {
   "cell_type": "code",
   "execution_count": 117,
   "id": "a0f268a5-3264-491e-bee0-600f1ac89d54",
   "metadata": {},
   "outputs": [
    {
     "data": {
      "text/plain": [
       "array([3.43513125, 0.21020309, 0.0767448 ])"
      ]
     },
     "execution_count": 117,
     "metadata": {},
     "output_type": "execute_result"
    }
   ],
   "source": [
    "X_new = ([1, 1, 1, 1],\n",
    "        [1, 2, 0, 4],\n",
    "        [1, 3, 2, 1])\n",
    "       \n",
    "Predictions_new = np.dot(X_new, theta)\n",
    "Predictions_new"
   ]
  }
 ],
 "metadata": {
  "kernelspec": {
   "display_name": "Python 3 (ipykernel)",
   "language": "python",
   "name": "python3"
  },
  "language_info": {
   "codemirror_mode": {
    "name": "ipython",
    "version": 3
   },
   "file_extension": ".py",
   "mimetype": "text/x-python",
   "name": "python",
   "nbconvert_exporter": "python",
   "pygments_lexer": "ipython3",
   "version": "3.9.12"
  }
 },
 "nbformat": 4,
 "nbformat_minor": 5
}
