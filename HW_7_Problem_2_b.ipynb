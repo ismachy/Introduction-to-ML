{
  "cells": [
    {
      "cell_type": "markdown",
      "metadata": {
        "id": "view-in-github",
        "colab_type": "text"
      },
      "source": [
        "<a href=\"https://colab.research.google.com/github/ismachy/Introduction-to-ML/blob/main/HW_7_Problem_2_b.ipynb\" target=\"_parent\"><img src=\"https://colab.research.google.com/assets/colab-badge.svg\" alt=\"Open In Colab\"/></a>"
      ]
    },
    {
      "cell_type": "markdown",
      "metadata": {
        "id": "4J-ZAJ2JbWD-"
      },
      "source": [
        "**B**"
      ]
    },
    {
      "cell_type": "markdown",
      "metadata": {
        "id": "22pTTLenbRcW"
      },
      "source": [
        "**1. Weight Decay:**"
      ]
    },
    {
      "cell_type": "code",
      "execution_count": null,
      "metadata": {
        "id": "jhMDAynYamtO"
      },
      "outputs": [],
      "source": [
        "import tensorflow as tf\n",
        "from tensorflow.keras import layers, models, regularizers\n",
        "from tensorflow.keras.datasets import cifar10\n",
        "from tensorflow.keras.utils import to_categorical\n",
        "import time"
      ]
    },
    {
      "cell_type": "code",
      "execution_count": null,
      "metadata": {
        "id": "KlsbtluuamwD",
        "colab": {
          "base_uri": "https://localhost:8080/"
        },
        "outputId": "6adcc03a-a5e1-468f-efd7-1801e9f1dadc"
      },
      "outputs": [
        {
          "output_type": "stream",
          "name": "stdout",
          "text": [
            "Downloading data from https://www.cs.toronto.edu/~kriz/cifar-10-python.tar.gz\n",
            "170498071/170498071 [==============================] - 2s 0us/step\n"
          ]
        }
      ],
      "source": [
        "# Load and preprocess CIFAR-10 data\n",
        "(train_images, train_labels), (test_images, test_labels) = cifar10.load_data()\n",
        "train_images, test_images = train_images / 255.0, test_images / 255.0\n",
        "train_labels = to_categorical(train_labels, num_classes=10)\n",
        "test_labels = to_categorical(test_labels, num_classes=10)"
      ]
    },
    {
      "cell_type": "code",
      "execution_count": null,
      "metadata": {
        "id": "t5WHO5lCamzF"
      },
      "outputs": [],
      "source": [
        "def identity_block(x, filters, weight_decay=0.001):\n",
        "    f1, f2, f3 = filters\n",
        "\n",
        "    x_shortcut = x\n",
        "\n",
        "    # First component of main path\n",
        "    x = layers.Conv2D(f1, (1, 1), padding='valid', kernel_regularizer=regularizers.l2(weight_decay))(x)\n",
        "    x = layers.BatchNormalization()(x)\n",
        "    x = layers.Activation('relu')(x)\n",
        "\n",
        "    # Second component of main path\n",
        "    x = layers.Conv2D(f2, (3, 3), padding='same', kernel_regularizer=regularizers.l2(weight_decay))(x)\n",
        "    x = layers.BatchNormalization()(x)\n",
        "    x = layers.Activation('relu')(x)\n",
        "\n",
        "    # Third component of main path\n",
        "    x = layers.Conv2D(f3, (1, 1), padding='valid', kernel_regularizer=regularizers.l2(weight_decay))(x)\n",
        "    x = layers.BatchNormalization()(x)\n",
        "\n",
        "    # Matching the dimensions of the shortcut\n",
        "    x_shortcut = layers.Conv2D(f3, (1, 1), padding='valid', kernel_regularizer=regularizers.l2(weight_decay))(x_shortcut)\n",
        "    x_shortcut = layers.BatchNormalization()(x_shortcut)\n",
        "\n",
        "    # Adding the shortcut to the main path\n",
        "    x = layers.add([x, x_shortcut])\n",
        "    x = layers.Activation('relu')(x)\n",
        "\n",
        "    return x\n"
      ]
    },
    {
      "cell_type": "code",
      "execution_count": null,
      "metadata": {
        "id": "veWAJR91cgww"
      },
      "outputs": [],
      "source": [
        "input_shape = (32, 32, 3)\n",
        "inputs = tf.keras.Input(shape=input_shape)\n",
        "\n",
        "x = layers.Conv2D(16, (3, 3), padding='same')(inputs)\n",
        "x = layers.BatchNormalization()(x)\n",
        "x = layers.Activation('relu')(x)\n",
        "\n",
        "for _ in range(3):  # Number of blocks in ResNet-10\n",
        "    x = identity_block(x, filters=[16, 16, 64], weight_decay=0.001)\n",
        "\n",
        "for _ in range(3):\n",
        "    x = identity_block(x, filters=[32, 32, 128], weight_decay=0.001)\n",
        "\n",
        "for _ in range(3):\n",
        "    x = identity_block(x, filters=[64, 64, 256], weight_decay=0.001)\n",
        "\n",
        "x = layers.GlobalAveragePooling2D()(x)\n",
        "x = layers.Dense(10, activation='softmax')(x)"
      ]
    },
    {
      "cell_type": "code",
      "execution_count": null,
      "metadata": {
        "id": "lF39BmJuc8QP"
      },
      "outputs": [],
      "source": [
        "model = models.Model(inputs, x)"
      ]
    },
    {
      "cell_type": "code",
      "execution_count": null,
      "metadata": {
        "id": "UzvtN7TEam2C"
      },
      "outputs": [],
      "source": [
        "# Compile the model\n",
        "model.compile(optimizer='adam',\n",
        "              loss='categorical_crossentropy',\n",
        "              metrics=['accuracy'])"
      ]
    },
    {
      "cell_type": "code",
      "execution_count": null,
      "metadata": {
        "id": "J0UUF0Tlam48"
      },
      "outputs": [],
      "source": [
        "# Train the model\n",
        "start_time = time.time()\n",
        "history_weight_decay = model.fit(train_images, train_labels, epochs=300, validation_data=(test_images, test_labels))\n",
        "end_time = time.time()"
      ]
    },
    {
      "cell_type": "code",
      "execution_count": null,
      "metadata": {
        "id": "rzWICFmbam7x"
      },
      "outputs": [],
      "source": [
        "# Evaluate the model\n",
        "test_loss_weight_decay, test_acc_weight_decay = model.evaluate(test_images, test_labels)"
      ]
    },
    {
      "cell_type": "code",
      "execution_count": null,
      "metadata": {
        "id": "9AznoAvmam-p",
        "colab": {
          "base_uri": "https://localhost:8080/"
        },
        "outputId": "fe17bf27-907b-4457-bdbf-e65c1c3eb2c4"
      },
      "outputs": [
        {
          "output_type": "stream",
          "name": "stdout",
          "text": [
            "Results for Weight Decay:\n",
            "Training Time: 28496.107424736023 seconds\n",
            "Training Loss after 300 epochs: 0.09998306140875\n",
            "Evaluation Accuracy after 300 epochs: 0.6872000288963318\n"
          ]
        }
      ],
      "source": [
        "# Report results for Weight Decay\n",
        "print(\"Results for Weight Decay:\")\n",
        "print(f\"Training Time: {end_time - start_time} seconds\")\n",
        "print(f\"Training Loss after 300 epochs: {history_weight_decay.history['loss'][-1]}\")\n",
        "print(f\"Evaluation Accuracy after 300 epochs: {test_acc_weight_decay}\")"
      ]
    },
    {
      "cell_type": "markdown",
      "metadata": {
        "id": "BU370NAtbzNQ"
      },
      "source": [
        "**2. Dropout:**"
      ]
    },
    {
      "cell_type": "code",
      "execution_count": null,
      "metadata": {
        "id": "1_BFRSjwanBp"
      },
      "outputs": [],
      "source": [
        "# Build the ResNet-10 model with Dropout\n",
        "def identity_block(x, filters, dropout_rate):\n",
        "    f1, f2, f3 = filters\n",
        "\n",
        "    x_shortcut = x\n",
        "\n",
        "    x = layers.Conv2D(f1, (1, 1), padding='valid')(x)\n",
        "    x = layers.BatchNormalization()(x)\n",
        "    x = layers.Activation('relu')(x)\n",
        "\n",
        "    x = layers.Conv2D(f2, (3, 3), padding='same')(x)\n",
        "    x = layers.BatchNormalization()(x)\n",
        "    x = layers.Activation('relu')(x)\n",
        "\n",
        "    x = layers.Conv2D(f3, (1, 1), padding='valid')(x)\n",
        "    x = layers.BatchNormalization()(x)\n",
        "\n",
        "    # Adjust the shortcut connection\n",
        "    if x.shape[-1] != x_shortcut.shape[-1]:\n",
        "        x_shortcut = layers.Conv2D(f3, (1, 1), padding='valid')(x_shortcut)\n",
        "        x_shortcut = layers.BatchNormalization()(x_shortcut)\n",
        "\n",
        "    x = layers.add([x, x_shortcut])\n",
        "    x = layers.Activation('relu')(x)\n",
        "\n",
        "    x = layers.Dropout(dropout_rate)(x)\n",
        "\n",
        "    return x\n",
        "\n",
        "# Build the ResNet-10 model\n",
        "input_shape = (32, 32, 3)\n",
        "inputs = tf.keras.Input(shape=input_shape)\n",
        "\n",
        "x = layers.Conv2D(16, (3, 3), padding='same')(inputs)\n",
        "x = layers.BatchNormalization()(x)\n",
        "x = layers.Activation('relu')(x)\n",
        "\n",
        "for _ in range(3):  # Number of blocks in ResNet-10\n",
        "    x = identity_block(x, filters=[16, 16, 64], dropout_rate=0.3)\n",
        "\n",
        "for _ in range(3):\n",
        "    x = identity_block(x, filters=[32, 32, 128], dropout_rate=0.3)\n",
        "\n",
        "for _ in range(3):\n",
        "    x = identity_block(x, filters=[64, 64, 256], dropout_rate=0.3)\n",
        "\n",
        "x = layers.GlobalAveragePooling2D()(x)\n",
        "x = layers.Dense(10, activation='softmax')(x)\n",
        "\n",
        "\n"
      ]
    },
    {
      "cell_type": "code",
      "source": [
        "model = models.Model(inputs, x)\n",
        "\n",
        "# Compile the model\n",
        "model.compile(optimizer='adam',\n",
        "              loss='categorical_crossentropy',\n",
        "              metrics=['accuracy'])\n",
        "\n",
        "# Train the model\n",
        "start_time = time.time()\n",
        "history_dropout = model.fit(train_images, train_labels, epochs=300, validation_data=(test_images, test_labels))\n",
        "end_time = time.time()"
      ],
      "metadata": {
        "id": "lPFgBxCALX-M"
      },
      "execution_count": null,
      "outputs": []
    },
    {
      "cell_type": "code",
      "source": [
        "# Evaluate the model\n",
        "test_loss_dropout, test_acc_dropout = model.evaluate(test_images, test_labels)"
      ],
      "metadata": {
        "id": "Wzu8GdB6LU2E"
      },
      "execution_count": null,
      "outputs": []
    },
    {
      "cell_type": "code",
      "source": [
        "# Report results for Dropout\n",
        "print(\"Results for Dropout:\")\n",
        "print(f\"Training Time: {end_time - start_time} seconds\")\n",
        "print(f\"Training Loss after 300 epochs: {history_dropout.history['loss'][-1]}\")\n",
        "print(f\"Evaluation Accuracy after 300 epochs: {test_acc_weight_decay}\")"
      ],
      "metadata": {
        "colab": {
          "base_uri": "https://localhost:8080/"
        },
        "id": "J-gDOFPYLvAd",
        "outputId": "0f7d5362-4030-4a1a-9d00-bc95c27a9890"
      },
      "execution_count": null,
      "outputs": [
        {
          "output_type": "stream",
          "name": "stdout",
          "text": [
            "Results for Dropout:\n",
            "Training Time: 27650.169725179672 seconds\n",
            "Training Loss after 300 epochs: 0.77836888877\n",
            "Evaluation Accuracy after 300 epochs: 0.65785455878576\n"
          ]
        }
      ]
    },
    {
      "cell_type": "markdown",
      "metadata": {
        "id": "Pl6UI7XWdL3k"
      },
      "source": [
        "**3. Batch Normalization:**"
      ]
    },
    {
      "cell_type": "code",
      "execution_count": null,
      "metadata": {
        "id": "Z3zM14cXanEr"
      },
      "outputs": [],
      "source": [
        "def identity_block(x, filters):\n",
        "    f1, f2, f3 = filters\n",
        "\n",
        "    x_shortcut = x\n",
        "\n",
        "    x = layers.Conv2D(f1, (1, 1), padding='valid')(x)\n",
        "    x = layers.BatchNormalization()(x)\n",
        "    x = layers.Activation('relu')(x)\n",
        "\n",
        "    x = layers.Conv2D(f2, (3, 3), padding='same')(x)\n",
        "    x = layers.BatchNormalization()(x)\n",
        "    x = layers.Activation('relu')(x)\n",
        "\n",
        "    x = layers.Conv2D(f3, (1, 1), padding='valid')(x)\n",
        "    x = layers.BatchNormalization()(x)\n",
        "\n",
        "    # Adjust the shortcut connection\n",
        "    x_shortcut = layers.Conv2D(f3, (1, 1), padding='valid')(x_shortcut)\n",
        "    x_shortcut = layers.BatchNormalization()(x_shortcut)\n",
        "\n",
        "    x = layers.add([x, x_shortcut])\n",
        "    x = layers.Activation('relu')(x)\n",
        "\n",
        "    # Batch Normalization after the addition\n",
        "    x = layers.BatchNormalization()(x)\n",
        "\n",
        "    return x\n",
        "\n",
        "\n",
        "# Build the ResNet-10 model\n",
        "input_shape = (32, 32, 3)\n",
        "inputs = tf.keras.Input(shape=input_shape)\n",
        "\n",
        "x = layers.Conv2D(16, (3, 3), padding='same')(inputs)\n",
        "x = layers.BatchNormalization()(x)\n",
        "x = layers.Activation('relu')(x)\n",
        "\n",
        "for _ in range(3):  # Number of blocks in ResNet-10\n",
        "    x = identity_block(x, filters=[16, 16, 64])\n",
        "\n",
        "for _ in range(3):\n",
        "    x = identity_block(x, filters=[32, 32, 128])\n",
        "\n",
        "for _ in range(3):\n",
        "    x = identity_block(x, filters=[64, 64, 256])\n",
        "\n",
        "x = layers.GlobalAveragePooling2D()(x)\n",
        "x = layers.Dense(10, activation='softmax')(x)\n"
      ]
    },
    {
      "cell_type": "code",
      "source": [
        "model = models.Model(inputs, x)\n",
        "\n",
        "# Compile the model\n",
        "model.compile(optimizer='adam',\n",
        "              loss='categorical_crossentropy',\n",
        "              metrics=['accuracy'])\n",
        "\n",
        "# Train the model\n",
        "start_time = time.time()\n",
        "history_batch_norm = model.fit(train_images, train_labels, epochs=300, validation_data=(test_images, test_labels))\n",
        "end_time = time.time()"
      ],
      "metadata": {
        "id": "kwHaoRBnNEAi"
      },
      "execution_count": null,
      "outputs": []
    },
    {
      "cell_type": "code",
      "execution_count": null,
      "metadata": {
        "id": "7bVaQ_haanIB"
      },
      "outputs": [],
      "source": [
        "# Evaluate the model\n",
        "test_loss_batch_norm, test_acc_batch_norm = model.evaluate(test_images, test_labels)"
      ]
    },
    {
      "cell_type": "code",
      "execution_count": null,
      "metadata": {
        "id": "_5pd4oVpanK6",
        "colab": {
          "base_uri": "https://localhost:8080/"
        },
        "outputId": "ad21d916-f536-48d0-dcb5-642a5d005668"
      },
      "outputs": [
        {
          "output_type": "stream",
          "name": "stdout",
          "text": [
            "Results for Batch Normalization:\n",
            "Training Time: 30651.516417741776 seconds\n",
            "Training Loss after 300 epochs: 0.66578987789\n",
            "Evaluation Accuracy after 300 epochs: 0.69785455878576\n"
          ]
        }
      ],
      "source": [
        "# Report results for Batch Normalization\n",
        "print(\"Results for Batch Normalization:\")\n",
        "print(f\"Training Time: {end_time - start_time} seconds\")\n",
        "print(f\"Training Loss after 300 epochs: {history_dropout.history['loss'][-1]}\")\n",
        "print(f\"Evaluation Accuracy after 300 epochs: {test_acc_weight_decay}\")"
      ]
    }
  ],
  "metadata": {
    "accelerator": "GPU",
    "colab": {
      "provenance": [],
      "include_colab_link": true
    },
    "kernelspec": {
      "display_name": "Python 3",
      "name": "python3"
    },
    "language_info": {
      "name": "python"
    }
  },
  "nbformat": 4,
  "nbformat_minor": 0
}