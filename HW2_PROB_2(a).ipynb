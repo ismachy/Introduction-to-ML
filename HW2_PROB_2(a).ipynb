{
 "cells": [
  {
   "cell_type": "code",
   "execution_count": null,
   "id": "99b24d93-9804-4782-8d0d-d66b42660668",
   "metadata": {},
   "outputs": [],
   "source": [
    "import numpy as np\n",
    "import pandas as pd\n",
    "import matplotlib.pyplot as plt     # Data Visualisation\n",
    "import seaborn as sns\n",
    "import sklearn"
   ]
  },
  {
   "cell_type": "code",
   "execution_count": null,
   "id": "1de77920-984d-49c6-8f4b-4abdfe19fd22",
   "metadata": {},
   "outputs": [],
   "source": [
    "housing = pd.DataFrame(pd.read_csv(\"Housing.csv\"))\n",
    "housing.head()"
   ]
  },
  {
   "cell_type": "code",
   "execution_count": null,
   "id": "230b2b5f-2aaa-43be-88b2-f0575238bf37",
   "metadata": {},
   "outputs": [],
   "source": [
    "m = len(housing)\n",
    "m"
   ]
  },
  {
   "cell_type": "code",
   "execution_count": null,
   "id": "570a681b-d457-4f46-846a-30b777e4b075",
   "metadata": {},
   "outputs": [],
   "source": [
    "housing.shape"
   ]
  },
  {
   "cell_type": "code",
   "execution_count": null,
   "id": "7cbf386e-fe67-4568-870c-2575f4ddb822",
   "metadata": {},
   "outputs": [],
   "source": [
    "varlist = ['mainroad', 'guestroom', 'basement', 'hotwaterheating', 'airconditioning', 'prefarea']\n",
    "\n",
    "# Defining the map function\n",
    "def binary_map(x):\n",
    "    return x.map({'yes': 1, \"no\": 0})\n",
    "\n",
    "# Applying the function to the housing list\n",
    "housing[varlist] = housing[varlist].apply(binary_map)\n",
    "           \n",
    "# Check the housing dataframe now\n",
    "housing.head()"
   ]
  },
  {
   "cell_type": "code",
   "execution_count": null,
   "id": "1abf074b-8948-4fcd-a31e-8d1259748f7e",
   "metadata": {},
   "outputs": [],
   "source": [
    "#Splitting the Data into Training and Testing Sets\n",
    "from sklearn.model_selection import train_test_split\n",
    "\n",
    "np.random.seed(0)\n",
    "df_train, df_test = train_test_split(housing, train_size = 0.8, test_size = 0.2, random_state = 100)\n",
    "df_train.shape"
   ]
  },
  {
   "cell_type": "code",
   "execution_count": null,
   "id": "90a7bfe2-37fb-4b03-bdaa-f5c2218a82b5",
   "metadata": {},
   "outputs": [],
   "source": [
    "df_test.shape"
   ]
  },
  {
   "cell_type": "code",
   "execution_count": null,
   "id": "a1777175-a2a0-495d-b048-b64c68fc54fb",
   "metadata": {},
   "outputs": [],
   "source": [
    "num_vars = ['area', 'bedrooms', 'bathrooms', 'stories', 'parking']\n",
    "df_Newtrain = df_train[num_vars]\n",
    "df_Newtest = df_test[num_vars]\n",
    "df_Newtrain.head()"
   ]
  },
  {
   "cell_type": "code",
   "execution_count": null,
   "id": "42569f40-a14e-4e0f-aa52-121c5a05cbc1",
   "metadata": {},
   "outputs": [],
   "source": [
    "df_Newtrain.shape"
   ]
  },
  {
   "cell_type": "code",
   "execution_count": null,
   "id": "46122167-d086-4cce-98da-360a36abfc85",
   "metadata": {},
   "outputs": [],
   "source": [
    "import warnings\n",
    "warnings.filterwarnings('ignore')\n",
    "\n",
    "from sklearn.preprocessing import MinMaxScaler, StandardScaler\n",
    "\n",
    "#scaler = StandardScaler()\n",
    "scaler = MinMaxScaler()   # input Normalization\n",
    "df_Newtrain[num_vars] = scaler.fit_transform(df_Newtrain[num_vars])\n",
    "df_Newtrain.head(10)"
   ]
  },
  {
   "cell_type": "code",
   "execution_count": null,
   "id": "f2ce218f-b1d0-45f3-8752-2b28cea73b6b",
   "metadata": {},
   "outputs": [],
   "source": [
    "df_Newtest[num_vars] = scaler.fit_transform(df_Newtest[num_vars])\n",
    "df_Newtest.head(10)"
   ]
  },
  {
   "cell_type": "code",
   "execution_count": null,
   "id": "cb646182-2a64-4734-8c6a-48fb33224fb1",
   "metadata": {},
   "outputs": [],
   "source": [
    "y_Newtrain = df_Newtrain.pop('price')\n",
    "X_Newtrain = df_Newtrain"
   ]
  },
  {
   "cell_type": "code",
   "execution_count": null,
   "id": "bf7af074-c955-4a4d-ae7d-c87701cbc8a5",
   "metadata": {},
   "outputs": [],
   "source": [
    "X_Newtrain.head()"
   ]
  },
  {
   "cell_type": "code",
   "execution_count": null,
   "id": "90a476ae-376c-40a7-8959-aeb6a7a0221a",
   "metadata": {},
   "outputs": [],
   "source": [
    "y_Newtrain.head()"
   ]
  },
  {
   "cell_type": "code",
   "execution_count": null,
   "id": "65d1ffb6-dc11-496a-b11f-5d128f2bcc3a",
   "metadata": {},
   "outputs": [],
   "source": [
    "y = y_Newtrain.values\n",
    "print('y = ', y[: 10])"
   ]
  },
  {
   "cell_type": "code",
   "execution_count": null,
   "id": "9cb8f8ae-83e3-4349-8b43-d6bbce8f6ce0",
   "metadata": {},
   "outputs": [],
   "source": [
    "# preparing the training set\n",
    "\n",
    "X1 = df_Newtrain.values[:, 0]       \n",
    "X2 = df_Newtrain.values[:, 1]              \n",
    "X3 = df_Newtrain.values[:, 2]               \n",
    "X4 = df_Newtrain.values[:, 3]             \n",
    "X5 = df_Newtrain.values[:, 4]     "
   ]
  },
  {
   "cell_type": "code",
   "execution_count": null,
   "id": "0b0b9861-e83b-4265-bf6c-77e1bee1b194",
   "metadata": {},
   "outputs": [],
   "source": [
    "m = len(X_Newtrain)         # size of training set\n",
    "X_0 = np.ones((m, 1))        \n",
    "X_0 [: 5]"
   ]
  },
  {
   "cell_type": "code",
   "execution_count": null,
   "id": "9a9c90fd-407e-45ba-a125-922950175ceb",
   "metadata": {},
   "outputs": [],
   "source": [
    "X_1 = X1.reshape(m, 1)\n",
    "X_2 = X2.reshape(m, 1)\n",
    "X_3 = X3.reshape(m, 1)\n",
    "X_4 = X4.reshape(m, 1)\n",
    "X_5 = X5.reshape(m, 1)"
   ]
  },
  {
   "cell_type": "code",
   "execution_count": null,
   "id": "04d99a4e-5305-462b-b3df-6e91408bee11",
   "metadata": {},
   "outputs": [],
   "source": [
    "# Stacking X_0, X_1, X_2, X_3, X-4 and X_5 horizotally\n",
    "# This is the final X Matrix for training\n",
    "\n",
    "X = np.hstack((X_0, X_1, X_2, X_3, X_4, X_5))\n",
    "X [: 5]"
   ]
  },
  {
   "cell_type": "code",
   "execution_count": null,
   "id": "cf4ebf7f-a239-4a8b-85cf-a82f299385ca",
   "metadata": {},
   "outputs": [],
   "source": [
    "theta = np.zeros(6)\n",
    "theta"
   ]
  },
  {
   "cell_type": "code",
   "execution_count": null,
   "id": "09ee7a84-da91-4dff-9103-873690e8ddcb",
   "metadata": {},
   "outputs": [],
   "source": [
    "y_Newtest = df_Newtest.pop('price')\n",
    "X_Newtest = df_Newtest"
   ]
  },
  {
   "cell_type": "code",
   "execution_count": null,
   "id": "ebf8bc12-d510-4f93-abfe-b111713449f8",
   "metadata": {},
   "outputs": [],
   "source": [
    "X_Newtest.head()"
   ]
  },
  {
   "cell_type": "code",
   "execution_count": null,
   "id": "128838da-15e7-4c9c-8ce0-d6e3f3cbe67a",
   "metadata": {},
   "outputs": [],
   "source": [
    "y_Newtest.head()"
   ]
  },
  {
   "cell_type": "code",
   "execution_count": null,
   "id": "d6fb8819-d830-4c97-b19a-a114e38202e4",
   "metadata": {},
   "outputs": [],
   "source": [
    "y_test = y_Newtest.values\n",
    "print('y_test = ', y_test[: 10])"
   ]
  },
  {
   "cell_type": "code",
   "execution_count": null,
   "id": "7b5a788d-a572-4b9b-b209-5279e7b33b99",
   "metadata": {},
   "outputs": [],
   "source": [
    "# preparing validation set\n",
    "X1_test = df_Newtest.values[:, 0]              \n",
    "X2_test = df_Newtest.values[:, 1]                \n",
    "X3_test = df_Newtest.values[:, 2]               \n",
    "X4_test = df_Newtest.values[:, 3]               \n",
    "X5_test = df_Newtest.values[:, 4]     "
   ]
  },
  {
   "cell_type": "code",
   "execution_count": null,
   "id": "b62e1f73-a718-4518-a35e-2cfb894fb3f4",
   "metadata": {},
   "outputs": [],
   "source": [
    "m_test = len(X_Newtest)             # size of validation set\n",
    "X_0_test = np.ones((m_test, 1))    \n",
    "X_0_test [: 5]"
   ]
  },
  {
   "cell_type": "code",
   "execution_count": null,
   "id": "845feda8-725e-4f60-bb01-06a5feb24484",
   "metadata": {},
   "outputs": [],
   "source": [
    "X_1_test = X1_test.reshape(m_test, 1)\n",
    "X_2_test = X2_test.reshape(m_test, 1)\n",
    "X_3_test = X3_test.reshape(m_test, 1)\n",
    "X_4_test = X4_test.reshape(m_test, 1)\n",
    "X_5_test = X5_test.reshape(m_test, 1)"
   ]
  },
  {
   "cell_type": "code",
   "execution_count": null,
   "id": "29984c79-e225-4d71-bda2-3ee06e01c670",
   "metadata": {},
   "outputs": [],
   "source": [
    "# Stacking X_0_test through X_5_test horizotally\n",
    "# This is the final X Matrix for validation\n",
    "\n",
    "X_test = np.hstack((X_0_test, X_1_test, X_2_test, X_3_test, X_4_test, X_5_test))\n",
    "X_test [: 5]"
   ]
  },
  {
   "cell_type": "code",
   "execution_count": null,
   "id": "e993a31f-70fa-4d16-ab5d-85247f055d82",
   "metadata": {},
   "outputs": [],
   "source": [
    "# defining function for computing the cost for linear regression\n",
    "\n",
    "def compute_cost(X, y, theta, m):\n",
    "    predictions = X.dot(theta)\n",
    "    errors = np.subtract(predictions, y)\n",
    "    sqrErrors = np.square(errors)\n",
    "    J = 1 / (2 * m) * np.sum(sqrErrors)\n",
    "    return J"
   ]
  },
  {
   "cell_type": "code",
   "execution_count": null,
   "id": "c3bee626-ec44-4010-afe7-6a0adf799a10",
   "metadata": {},
   "outputs": [],
   "source": [
    "cost = compute_cost(X, y, theta, m)\n",
    "cost"
   ]
  },
  {
   "cell_type": "code",
   "execution_count": null,
   "id": "46905e19-6b78-4ad7-b30f-643d3656c0e7",
   "metadata": {},
   "outputs": [],
   "source": [
    "# gradient descent algorithm\n",
    "\n",
    "def gradient_descent(X, y, theta, alpha, iterations):\n",
    "    cost_history = np.zeros(iterations)\n",
    "    cost_test = np.zeros(iterations)\n",
    "    for i in range(iterations):\n",
    "        predictions = X.dot(theta)\n",
    "        errors = np.subtract(predictions, y)\n",
    "        sum_delta = (alpha / m) * X.transpose().dot(errors);\n",
    "        theta = theta - sum_delta;\n",
    "        cost_history[i] = compute_cost(X, y, theta, m)                     # loss for training set\n",
    "        cost_test[i] = compute_cost(X_test, y_test, theta, m_test)         # loss for validation set\n",
    "    \n",
    "    return theta, cost_history, cost_test"
   ]
  },
  {
   "cell_type": "code",
   "execution_count": null,
   "id": "bc103a20-ed71-4602-8c56-93d15e574ebb",
   "metadata": {},
   "outputs": [],
   "source": [
    "theta = [0., 0., 0., 0., 0., 0.]\n",
    "iterations = 400;\n",
    "alpha = 0.02"
   ]
  },
  {
   "cell_type": "code",
   "execution_count": null,
   "id": "f3b6b6e4-3821-4aff-b36d-9d2c62be7c7d",
   "metadata": {},
   "outputs": [],
   "source": [
    "# Computing final theta values and cost/losses for training and validation set\n",
    "\n",
    "theta, cost_history, cost_test = gradient_descent(X, y, theta, alpha, iterations)\n",
    "print('Final value of theta=', theta)\n",
    "print('cost_history =', cost_history)\n",
    "print('cost_test =', cost_test)"
   ]
  },
  {
   "cell_type": "code",
   "execution_count": null,
   "id": "cc5345a5-8a12-4fbf-9ebf-344a002993ec",
   "metadata": {},
   "outputs": [],
   "source": [
    "plt.plot(range(1, iterations + 1),cost_history, color='green', label= 'Loss for Training Set')\n",
    "plt.plot(range(1, iterations + 1),cost_test, color='red', label= 'Loss for Validation Set')\n",
    "plt.rcParams[\"figure.figsize\"] = (10,6)\n",
    "plt.grid()\n",
    "plt.legend()\n",
    "plt.xlabel('Number of Iterations')\n",
    "plt.ylabel('Cost (J)')\n",
    "plt.title('Convergence of Gradient Descent')"
   ]
  }
 ],
 "metadata": {
  "kernelspec": {
   "display_name": "Python 3 (ipykernel)",
   "language": "python",
   "name": "python3"
  },
  "language_info": {
   "codemirror_mode": {
    "name": "ipython",
    "version": 3
   },
   "file_extension": ".py",
   "mimetype": "text/x-python",
   "name": "python",
   "nbconvert_exporter": "python",
   "pygments_lexer": "ipython3",
   "version": "3.9.13"
  }
 },
 "nbformat": 4,
 "nbformat_minor": 5
}
