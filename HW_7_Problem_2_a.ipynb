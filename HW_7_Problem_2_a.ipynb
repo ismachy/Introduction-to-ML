{
  "cells": [
    {
      "cell_type": "markdown",
      "metadata": {
        "id": "view-in-github",
        "colab_type": "text"
      },
      "source": [
        "<a href=\"https://colab.research.google.com/github/ismachy/Introduction-to-ML/blob/main/HW_7_Problem_2_a.ipynb\" target=\"_parent\"><img src=\"https://colab.research.google.com/assets/colab-badge.svg\" alt=\"Open In Colab\"/></a>"
      ]
    },
    {
      "cell_type": "code",
      "execution_count": null,
      "metadata": {
        "id": "68mW0WnU_lvl"
      },
      "outputs": [],
      "source": [
        "import tensorflow as tf\n",
        "from tensorflow.keras import layers, models\n",
        "from tensorflow.keras.datasets import cifar10\n",
        "from tensorflow.keras.utils import to_categorical\n",
        "import time"
      ]
    },
    {
      "cell_type": "code",
      "execution_count": null,
      "metadata": {
        "colab": {
          "base_uri": "https://localhost:8080/"
        },
        "id": "Zcs88N2l_o8y",
        "outputId": "98c1564b-b7c9-41cc-fd08-d79400ad1e29"
      },
      "outputs": [
        {
          "output_type": "stream",
          "name": "stdout",
          "text": [
            "Downloading data from https://www.cs.toronto.edu/~kriz/cifar-10-python.tar.gz\n",
            "170498071/170498071 [==============================] - 11s 0us/step\n"
          ]
        }
      ],
      "source": [
        "# Load and preprocess CIFAR-10 data\n",
        "(train_images, train_labels), (test_images, test_labels) = cifar10.load_data()"
      ]
    },
    {
      "cell_type": "code",
      "execution_count": null,
      "metadata": {
        "id": "12uSvs-Ya6uQ"
      },
      "outputs": [],
      "source": [
        "train_images, test_images = train_images / 255.0, test_images / 255.0\n",
        "train_labels = to_categorical(train_labels, num_classes=10)\n",
        "test_labels = to_categorical(test_labels, num_classes=10)"
      ]
    },
    {
      "cell_type": "code",
      "execution_count": null,
      "metadata": {
        "id": "bKnuSz6q_o_i"
      },
      "outputs": [],
      "source": [
        "def identity_block(x, filters):\n",
        "    f1, f2, f3 = filters\n",
        "\n",
        "    x_shortcut = x\n",
        "\n",
        "    x = layers.Conv2D(f1, (1, 1), padding='valid')(x)\n",
        "    x = layers.BatchNormalization()(x)\n",
        "    x = layers.Activation('relu')(x)\n",
        "\n",
        "    x = layers.Conv2D(f2, (3, 3), padding='same')(x)\n",
        "    x = layers.BatchNormalization()(x)\n",
        "    x = layers.Activation('relu')(x)\n",
        "\n",
        "    x = layers.Conv2D(f3, (1, 1), padding='valid')(x)\n",
        "    x = layers.BatchNormalization()(x)\n",
        "\n",
        "    x_shortcut = layers.Conv2D(f3, (1, 1), padding='valid')(x_shortcut)\n",
        "    x_shortcut = layers.BatchNormalization()(x_shortcut)\n",
        "\n",
        "    x = layers.add([x, x_shortcut])\n",
        "    x = layers.Activation('relu')(x)\n",
        "\n",
        "    return x\n"
      ]
    },
    {
      "cell_type": "code",
      "execution_count": null,
      "metadata": {
        "id": "vtp2OHfG_pC3"
      },
      "outputs": [],
      "source": [
        "# ResNet-10 model\n",
        "input_shape = (32, 32, 3)\n",
        "inputs = tf.keras.Input(shape=input_shape)\n",
        "\n",
        "x = layers.Conv2D(16, (3, 3), padding='same')(inputs)\n",
        "x = layers.BatchNormalization()(x)\n",
        "x = layers.Activation('relu')(x)\n",
        "\n",
        "for _ in range(3):  # Number of blocks in ResNet-10\n",
        "    x = identity_block(x, filters=[16, 16, 64])\n",
        "\n",
        "for _ in range(3):\n",
        "    x = identity_block(x, filters=[32, 32, 128])\n",
        "\n",
        "for _ in range(3):\n",
        "    x = identity_block(x, filters=[64, 64, 256])\n",
        "\n",
        "x = layers.GlobalAveragePooling2D()(x)\n",
        "x = layers.Dense(10, activation='softmax')(x)"
      ]
    },
    {
      "cell_type": "code",
      "execution_count": null,
      "metadata": {
        "id": "2eIO9Tm3_pF3"
      },
      "outputs": [],
      "source": [
        "model = models.Model(inputs, x)\n",
        "\n",
        "# model\n",
        "model.compile(optimizer='adam',\n",
        "              loss='categorical_crossentropy',\n",
        "              metrics=['accuracy'],\n",
        "              run_eagerly=True)"
      ]
    },
    {
      "cell_type": "code",
      "execution_count": null,
      "metadata": {
        "id": "QBLTupsr_pJI"
      },
      "outputs": [],
      "source": [
        "# Train the model\n",
        "start_time = time.time()\n",
        "output = model.fit(train_images, train_labels, epochs=300, validation_data=(test_images, test_labels))\n",
        "end_time = time.time()"
      ]
    },
    {
      "cell_type": "code",
      "execution_count": null,
      "metadata": {
        "id": "DtTp1djn_pMM",
        "colab": {
          "base_uri": "https://localhost:8080/"
        },
        "outputId": "ac9d0ef9-7cac-4349-bd11-1204fe46e39d"
      },
      "outputs": [
        {
          "output_type": "stream",
          "name": "stdout",
          "text": [
            "313/313 [==============================] - 23s 74ms/step - loss: 1.6431 - accuracy: 0.5197\n"
          ]
        }
      ],
      "source": [
        "# Evaluate the model\n",
        "test_loss, test_acc = model.evaluate(test_images, test_labels)"
      ]
    },
    {
      "cell_type": "code",
      "execution_count": null,
      "metadata": {
        "id": "niXQgNxrZgzg",
        "colab": {
          "base_uri": "https://localhost:8080/"
        },
        "outputId": "492e8c8b-152b-4489-a68d-c71f2ba0d6ef"
      },
      "outputs": [
        {
          "output_type": "stream",
          "name": "stdout",
          "text": [
            "313/313 [==============================] - 20s 62ms/step\n",
            "Accuracy: 0.5197\n",
            "Confusion Matrix:\n",
            "[[258  37  54   3  18   0   3  18 591  18]\n",
            " [  2 590   3   1   3   0   1   2 323  75]\n",
            " [ 38  13 545  11 152   4  37  30 166   4]\n",
            " [ 16  15 161 277 154  27  41  50 241  18]\n",
            " [  2   2 125   6 682   2  26  43 110   2]\n",
            " [  1   9 125 184 227 187  20 122 116   9]\n",
            " [  4   4 139  31 104   0 498   5 214   1]\n",
            " [  1   1  66  13 199   2   2 584 123   9]\n",
            " [  4   3   6   0   2   0   1   0 984   0]\n",
            " [  3  25   1   1   9   0   0   6 363 592]]\n",
            "F1 Score: 0.5166134659575403\n"
          ]
        }
      ],
      "source": [
        "import numpy as np\n",
        "from sklearn.metrics import confusion_matrix, f1_score, accuracy_score\n",
        "\n",
        "# Predict on the test set\n",
        "predictions = model.predict(test_images)\n",
        "predicted_labels = np.argmax(predictions, axis=1)\n",
        "true_labels = np.argmax(test_labels, axis=1)\n",
        "\n",
        "# Calculate accuracy\n",
        "accuracy = accuracy_score(true_labels, predicted_labels)\n",
        "\n",
        "# Calculate confusion matrix\n",
        "conf_matrix = confusion_matrix(true_labels, predicted_labels)\n",
        "\n",
        "# Calculate F1 score\n",
        "f1 = f1_score(true_labels, predicted_labels, average='macro')\n",
        "\n",
        "# Report results\n",
        "print(f\"Accuracy: {accuracy}\")\n",
        "print(\"Confusion Matrix:\")\n",
        "print(conf_matrix)\n",
        "print(f\"F1 Score: {f1}\")"
      ]
    },
    {
      "cell_type": "code",
      "execution_count": null,
      "metadata": {
        "id": "RJNmY99Q_pPX",
        "colab": {
          "base_uri": "https://localhost:8080/"
        },
        "outputId": "de409474-aa42-42ad-d80f-5586c0da208b"
      },
      "outputs": [
        {
          "output_type": "stream",
          "name": "stdout",
          "text": [
            "Training Time: 26473.470908164978 seconds\n",
            "Training Loss after 300 epochs: 0.9981153011322021\n",
            "Evaluation Accuracy after 300 epochs: 0.5196999907493591\n"
          ]
        }
      ],
      "source": [
        "# Report results\n",
        "print(f\"Training Time: {end_time - start_time} seconds\")\n",
        "print(f\"Training Loss after 300 epochs: {output.history['loss'][-1]}\")\n",
        "print(f\"Evaluation Accuracy after 300 epochs: {test_acc}\")"
      ]
    },
    {
      "cell_type": "code",
      "source": [
        "model.summary()"
      ],
      "metadata": {
        "colab": {
          "base_uri": "https://localhost:8080/"
        },
        "id": "7YOUPoR3-pdC",
        "outputId": "467809a9-ee74-4921-d62e-801d00d4011b"
      },
      "execution_count": null,
      "outputs": [
        {
          "output_type": "stream",
          "name": "stdout",
          "text": [
            "Model: \"model\"\n",
            "__________________________________________________________________________________________________\n",
            " Layer (type)                Output Shape                 Param #   Connected to                  \n",
            "==================================================================================================\n",
            " input_1 (InputLayer)        [(None, 32, 32, 3)]          0         []                            \n",
            "                                                                                                  \n",
            " conv2d (Conv2D)             (None, 32, 32, 16)           448       ['input_1[0][0]']             \n",
            "                                                                                                  \n",
            " batch_normalization (Batch  (None, 32, 32, 16)           64        ['conv2d[0][0]']              \n",
            " Normalization)                                                                                   \n",
            "                                                                                                  \n",
            " activation (Activation)     (None, 32, 32, 16)           0         ['batch_normalization[0][0]'] \n",
            "                                                                                                  \n",
            " conv2d_1 (Conv2D)           (None, 32, 32, 16)           272       ['activation[0][0]']          \n",
            "                                                                                                  \n",
            " batch_normalization_1 (Bat  (None, 32, 32, 16)           64        ['conv2d_1[0][0]']            \n",
            " chNormalization)                                                                                 \n",
            "                                                                                                  \n",
            " activation_1 (Activation)   (None, 32, 32, 16)           0         ['batch_normalization_1[0][0]'\n",
            "                                                                    ]                             \n",
            "                                                                                                  \n",
            " conv2d_2 (Conv2D)           (None, 32, 32, 16)           2320      ['activation_1[0][0]']        \n",
            "                                                                                                  \n",
            " batch_normalization_2 (Bat  (None, 32, 32, 16)           64        ['conv2d_2[0][0]']            \n",
            " chNormalization)                                                                                 \n",
            "                                                                                                  \n",
            " activation_2 (Activation)   (None, 32, 32, 16)           0         ['batch_normalization_2[0][0]'\n",
            "                                                                    ]                             \n",
            "                                                                                                  \n",
            " conv2d_3 (Conv2D)           (None, 32, 32, 64)           1088      ['activation_2[0][0]']        \n",
            "                                                                                                  \n",
            " conv2d_4 (Conv2D)           (None, 32, 32, 64)           1088      ['activation[0][0]']          \n",
            "                                                                                                  \n",
            " batch_normalization_3 (Bat  (None, 32, 32, 64)           256       ['conv2d_3[0][0]']            \n",
            " chNormalization)                                                                                 \n",
            "                                                                                                  \n",
            " batch_normalization_4 (Bat  (None, 32, 32, 64)           256       ['conv2d_4[0][0]']            \n",
            " chNormalization)                                                                                 \n",
            "                                                                                                  \n",
            " add (Add)                   (None, 32, 32, 64)           0         ['batch_normalization_3[0][0]'\n",
            "                                                                    , 'batch_normalization_4[0][0]\n",
            "                                                                    ']                            \n",
            "                                                                                                  \n",
            " activation_3 (Activation)   (None, 32, 32, 64)           0         ['add[0][0]']                 \n",
            "                                                                                                  \n",
            " conv2d_5 (Conv2D)           (None, 32, 32, 16)           1040      ['activation_3[0][0]']        \n",
            "                                                                                                  \n",
            " batch_normalization_5 (Bat  (None, 32, 32, 16)           64        ['conv2d_5[0][0]']            \n",
            " chNormalization)                                                                                 \n",
            "                                                                                                  \n",
            " activation_4 (Activation)   (None, 32, 32, 16)           0         ['batch_normalization_5[0][0]'\n",
            "                                                                    ]                             \n",
            "                                                                                                  \n",
            " conv2d_6 (Conv2D)           (None, 32, 32, 16)           2320      ['activation_4[0][0]']        \n",
            "                                                                                                  \n",
            " batch_normalization_6 (Bat  (None, 32, 32, 16)           64        ['conv2d_6[0][0]']            \n",
            " chNormalization)                                                                                 \n",
            "                                                                                                  \n",
            " activation_5 (Activation)   (None, 32, 32, 16)           0         ['batch_normalization_6[0][0]'\n",
            "                                                                    ]                             \n",
            "                                                                                                  \n",
            " conv2d_7 (Conv2D)           (None, 32, 32, 64)           1088      ['activation_5[0][0]']        \n",
            "                                                                                                  \n",
            " conv2d_8 (Conv2D)           (None, 32, 32, 64)           4160      ['activation_3[0][0]']        \n",
            "                                                                                                  \n",
            " batch_normalization_7 (Bat  (None, 32, 32, 64)           256       ['conv2d_7[0][0]']            \n",
            " chNormalization)                                                                                 \n",
            "                                                                                                  \n",
            " batch_normalization_8 (Bat  (None, 32, 32, 64)           256       ['conv2d_8[0][0]']            \n",
            " chNormalization)                                                                                 \n",
            "                                                                                                  \n",
            " add_1 (Add)                 (None, 32, 32, 64)           0         ['batch_normalization_7[0][0]'\n",
            "                                                                    , 'batch_normalization_8[0][0]\n",
            "                                                                    ']                            \n",
            "                                                                                                  \n",
            " activation_6 (Activation)   (None, 32, 32, 64)           0         ['add_1[0][0]']               \n",
            "                                                                                                  \n",
            " conv2d_9 (Conv2D)           (None, 32, 32, 16)           1040      ['activation_6[0][0]']        \n",
            "                                                                                                  \n",
            " batch_normalization_9 (Bat  (None, 32, 32, 16)           64        ['conv2d_9[0][0]']            \n",
            " chNormalization)                                                                                 \n",
            "                                                                                                  \n",
            " activation_7 (Activation)   (None, 32, 32, 16)           0         ['batch_normalization_9[0][0]'\n",
            "                                                                    ]                             \n",
            "                                                                                                  \n",
            " conv2d_10 (Conv2D)          (None, 32, 32, 16)           2320      ['activation_7[0][0]']        \n",
            "                                                                                                  \n",
            " batch_normalization_10 (Ba  (None, 32, 32, 16)           64        ['conv2d_10[0][0]']           \n",
            " tchNormalization)                                                                                \n",
            "                                                                                                  \n",
            " activation_8 (Activation)   (None, 32, 32, 16)           0         ['batch_normalization_10[0][0]\n",
            "                                                                    ']                            \n",
            "                                                                                                  \n",
            " conv2d_11 (Conv2D)          (None, 32, 32, 64)           1088      ['activation_8[0][0]']        \n",
            "                                                                                                  \n",
            " conv2d_12 (Conv2D)          (None, 32, 32, 64)           4160      ['activation_6[0][0]']        \n",
            "                                                                                                  \n",
            " batch_normalization_11 (Ba  (None, 32, 32, 64)           256       ['conv2d_11[0][0]']           \n",
            " tchNormalization)                                                                                \n",
            "                                                                                                  \n",
            " batch_normalization_12 (Ba  (None, 32, 32, 64)           256       ['conv2d_12[0][0]']           \n",
            " tchNormalization)                                                                                \n",
            "                                                                                                  \n",
            " add_2 (Add)                 (None, 32, 32, 64)           0         ['batch_normalization_11[0][0]\n",
            "                                                                    ',                            \n",
            "                                                                     'batch_normalization_12[0][0]\n",
            "                                                                    ']                            \n",
            "                                                                                                  \n",
            " activation_9 (Activation)   (None, 32, 32, 64)           0         ['add_2[0][0]']               \n",
            "                                                                                                  \n",
            " conv2d_13 (Conv2D)          (None, 32, 32, 32)           2080      ['activation_9[0][0]']        \n",
            "                                                                                                  \n",
            " batch_normalization_13 (Ba  (None, 32, 32, 32)           128       ['conv2d_13[0][0]']           \n",
            " tchNormalization)                                                                                \n",
            "                                                                                                  \n",
            " activation_10 (Activation)  (None, 32, 32, 32)           0         ['batch_normalization_13[0][0]\n",
            "                                                                    ']                            \n",
            "                                                                                                  \n",
            " conv2d_14 (Conv2D)          (None, 32, 32, 32)           9248      ['activation_10[0][0]']       \n",
            "                                                                                                  \n",
            " batch_normalization_14 (Ba  (None, 32, 32, 32)           128       ['conv2d_14[0][0]']           \n",
            " tchNormalization)                                                                                \n",
            "                                                                                                  \n",
            " activation_11 (Activation)  (None, 32, 32, 32)           0         ['batch_normalization_14[0][0]\n",
            "                                                                    ']                            \n",
            "                                                                                                  \n",
            " conv2d_15 (Conv2D)          (None, 32, 32, 128)          4224      ['activation_11[0][0]']       \n",
            "                                                                                                  \n",
            " conv2d_16 (Conv2D)          (None, 32, 32, 128)          8320      ['activation_9[0][0]']        \n",
            "                                                                                                  \n",
            " batch_normalization_15 (Ba  (None, 32, 32, 128)          512       ['conv2d_15[0][0]']           \n",
            " tchNormalization)                                                                                \n",
            "                                                                                                  \n",
            " batch_normalization_16 (Ba  (None, 32, 32, 128)          512       ['conv2d_16[0][0]']           \n",
            " tchNormalization)                                                                                \n",
            "                                                                                                  \n",
            " add_3 (Add)                 (None, 32, 32, 128)          0         ['batch_normalization_15[0][0]\n",
            "                                                                    ',                            \n",
            "                                                                     'batch_normalization_16[0][0]\n",
            "                                                                    ']                            \n",
            "                                                                                                  \n",
            " activation_12 (Activation)  (None, 32, 32, 128)          0         ['add_3[0][0]']               \n",
            "                                                                                                  \n",
            " conv2d_17 (Conv2D)          (None, 32, 32, 32)           4128      ['activation_12[0][0]']       \n",
            "                                                                                                  \n",
            " batch_normalization_17 (Ba  (None, 32, 32, 32)           128       ['conv2d_17[0][0]']           \n",
            " tchNormalization)                                                                                \n",
            "                                                                                                  \n",
            " activation_13 (Activation)  (None, 32, 32, 32)           0         ['batch_normalization_17[0][0]\n",
            "                                                                    ']                            \n",
            "                                                                                                  \n",
            " conv2d_18 (Conv2D)          (None, 32, 32, 32)           9248      ['activation_13[0][0]']       \n",
            "                                                                                                  \n",
            " batch_normalization_18 (Ba  (None, 32, 32, 32)           128       ['conv2d_18[0][0]']           \n",
            " tchNormalization)                                                                                \n",
            "                                                                                                  \n",
            " activation_14 (Activation)  (None, 32, 32, 32)           0         ['batch_normalization_18[0][0]\n",
            "                                                                    ']                            \n",
            "                                                                                                  \n",
            " conv2d_19 (Conv2D)          (None, 32, 32, 128)          4224      ['activation_14[0][0]']       \n",
            "                                                                                                  \n",
            " conv2d_20 (Conv2D)          (None, 32, 32, 128)          16512     ['activation_12[0][0]']       \n",
            "                                                                                                  \n",
            " batch_normalization_19 (Ba  (None, 32, 32, 128)          512       ['conv2d_19[0][0]']           \n",
            " tchNormalization)                                                                                \n",
            "                                                                                                  \n",
            " batch_normalization_20 (Ba  (None, 32, 32, 128)          512       ['conv2d_20[0][0]']           \n",
            " tchNormalization)                                                                                \n",
            "                                                                                                  \n",
            " add_4 (Add)                 (None, 32, 32, 128)          0         ['batch_normalization_19[0][0]\n",
            "                                                                    ',                            \n",
            "                                                                     'batch_normalization_20[0][0]\n",
            "                                                                    ']                            \n",
            "                                                                                                  \n",
            " activation_15 (Activation)  (None, 32, 32, 128)          0         ['add_4[0][0]']               \n",
            "                                                                                                  \n",
            " conv2d_21 (Conv2D)          (None, 32, 32, 32)           4128      ['activation_15[0][0]']       \n",
            "                                                                                                  \n",
            " batch_normalization_21 (Ba  (None, 32, 32, 32)           128       ['conv2d_21[0][0]']           \n",
            " tchNormalization)                                                                                \n",
            "                                                                                                  \n",
            " activation_16 (Activation)  (None, 32, 32, 32)           0         ['batch_normalization_21[0][0]\n",
            "                                                                    ']                            \n",
            "                                                                                                  \n",
            " conv2d_22 (Conv2D)          (None, 32, 32, 32)           9248      ['activation_16[0][0]']       \n",
            "                                                                                                  \n",
            " batch_normalization_22 (Ba  (None, 32, 32, 32)           128       ['conv2d_22[0][0]']           \n",
            " tchNormalization)                                                                                \n",
            "                                                                                                  \n",
            " activation_17 (Activation)  (None, 32, 32, 32)           0         ['batch_normalization_22[0][0]\n",
            "                                                                    ']                            \n",
            "                                                                                                  \n",
            " conv2d_23 (Conv2D)          (None, 32, 32, 128)          4224      ['activation_17[0][0]']       \n",
            "                                                                                                  \n",
            " conv2d_24 (Conv2D)          (None, 32, 32, 128)          16512     ['activation_15[0][0]']       \n",
            "                                                                                                  \n",
            " batch_normalization_23 (Ba  (None, 32, 32, 128)          512       ['conv2d_23[0][0]']           \n",
            " tchNormalization)                                                                                \n",
            "                                                                                                  \n",
            " batch_normalization_24 (Ba  (None, 32, 32, 128)          512       ['conv2d_24[0][0]']           \n",
            " tchNormalization)                                                                                \n",
            "                                                                                                  \n",
            " add_5 (Add)                 (None, 32, 32, 128)          0         ['batch_normalization_23[0][0]\n",
            "                                                                    ',                            \n",
            "                                                                     'batch_normalization_24[0][0]\n",
            "                                                                    ']                            \n",
            "                                                                                                  \n",
            " activation_18 (Activation)  (None, 32, 32, 128)          0         ['add_5[0][0]']               \n",
            "                                                                                                  \n",
            " conv2d_25 (Conv2D)          (None, 32, 32, 64)           8256      ['activation_18[0][0]']       \n",
            "                                                                                                  \n",
            " batch_normalization_25 (Ba  (None, 32, 32, 64)           256       ['conv2d_25[0][0]']           \n",
            " tchNormalization)                                                                                \n",
            "                                                                                                  \n",
            " activation_19 (Activation)  (None, 32, 32, 64)           0         ['batch_normalization_25[0][0]\n",
            "                                                                    ']                            \n",
            "                                                                                                  \n",
            " conv2d_26 (Conv2D)          (None, 32, 32, 64)           36928     ['activation_19[0][0]']       \n",
            "                                                                                                  \n",
            " batch_normalization_26 (Ba  (None, 32, 32, 64)           256       ['conv2d_26[0][0]']           \n",
            " tchNormalization)                                                                                \n",
            "                                                                                                  \n",
            " activation_20 (Activation)  (None, 32, 32, 64)           0         ['batch_normalization_26[0][0]\n",
            "                                                                    ']                            \n",
            "                                                                                                  \n",
            " conv2d_27 (Conv2D)          (None, 32, 32, 256)          16640     ['activation_20[0][0]']       \n",
            "                                                                                                  \n",
            " conv2d_28 (Conv2D)          (None, 32, 32, 256)          33024     ['activation_18[0][0]']       \n",
            "                                                                                                  \n",
            " batch_normalization_27 (Ba  (None, 32, 32, 256)          1024      ['conv2d_27[0][0]']           \n",
            " tchNormalization)                                                                                \n",
            "                                                                                                  \n",
            " batch_normalization_28 (Ba  (None, 32, 32, 256)          1024      ['conv2d_28[0][0]']           \n",
            " tchNormalization)                                                                                \n",
            "                                                                                                  \n",
            " add_6 (Add)                 (None, 32, 32, 256)          0         ['batch_normalization_27[0][0]\n",
            "                                                                    ',                            \n",
            "                                                                     'batch_normalization_28[0][0]\n",
            "                                                                    ']                            \n",
            "                                                                                                  \n",
            " activation_21 (Activation)  (None, 32, 32, 256)          0         ['add_6[0][0]']               \n",
            "                                                                                                  \n",
            " conv2d_29 (Conv2D)          (None, 32, 32, 64)           16448     ['activation_21[0][0]']       \n",
            "                                                                                                  \n",
            " batch_normalization_29 (Ba  (None, 32, 32, 64)           256       ['conv2d_29[0][0]']           \n",
            " tchNormalization)                                                                                \n",
            "                                                                                                  \n",
            " activation_22 (Activation)  (None, 32, 32, 64)           0         ['batch_normalization_29[0][0]\n",
            "                                                                    ']                            \n",
            "                                                                                                  \n",
            " conv2d_30 (Conv2D)          (None, 32, 32, 64)           36928     ['activation_22[0][0]']       \n",
            "                                                                                                  \n",
            " batch_normalization_30 (Ba  (None, 32, 32, 64)           256       ['conv2d_30[0][0]']           \n",
            " tchNormalization)                                                                                \n",
            "                                                                                                  \n",
            " activation_23 (Activation)  (None, 32, 32, 64)           0         ['batch_normalization_30[0][0]\n",
            "                                                                    ']                            \n",
            "                                                                                                  \n",
            " conv2d_31 (Conv2D)          (None, 32, 32, 256)          16640     ['activation_23[0][0]']       \n",
            "                                                                                                  \n",
            " conv2d_32 (Conv2D)          (None, 32, 32, 256)          65792     ['activation_21[0][0]']       \n",
            "                                                                                                  \n",
            " batch_normalization_31 (Ba  (None, 32, 32, 256)          1024      ['conv2d_31[0][0]']           \n",
            " tchNormalization)                                                                                \n",
            "                                                                                                  \n",
            " batch_normalization_32 (Ba  (None, 32, 32, 256)          1024      ['conv2d_32[0][0]']           \n",
            " tchNormalization)                                                                                \n",
            "                                                                                                  \n",
            " add_7 (Add)                 (None, 32, 32, 256)          0         ['batch_normalization_31[0][0]\n",
            "                                                                    ',                            \n",
            "                                                                     'batch_normalization_32[0][0]\n",
            "                                                                    ']                            \n",
            "                                                                                                  \n",
            " activation_24 (Activation)  (None, 32, 32, 256)          0         ['add_7[0][0]']               \n",
            "                                                                                                  \n",
            " conv2d_33 (Conv2D)          (None, 32, 32, 64)           16448     ['activation_24[0][0]']       \n",
            "                                                                                                  \n",
            " batch_normalization_33 (Ba  (None, 32, 32, 64)           256       ['conv2d_33[0][0]']           \n",
            " tchNormalization)                                                                                \n",
            "                                                                                                  \n",
            " activation_25 (Activation)  (None, 32, 32, 64)           0         ['batch_normalization_33[0][0]\n",
            "                                                                    ']                            \n",
            "                                                                                                  \n",
            " conv2d_34 (Conv2D)          (None, 32, 32, 64)           36928     ['activation_25[0][0]']       \n",
            "                                                                                                  \n",
            " batch_normalization_34 (Ba  (None, 32, 32, 64)           256       ['conv2d_34[0][0]']           \n",
            " tchNormalization)                                                                                \n",
            "                                                                                                  \n",
            " activation_26 (Activation)  (None, 32, 32, 64)           0         ['batch_normalization_34[0][0]\n",
            "                                                                    ']                            \n",
            "                                                                                                  \n",
            " conv2d_35 (Conv2D)          (None, 32, 32, 256)          16640     ['activation_26[0][0]']       \n",
            "                                                                                                  \n",
            " conv2d_36 (Conv2D)          (None, 32, 32, 256)          65792     ['activation_24[0][0]']       \n",
            "                                                                                                  \n",
            " batch_normalization_35 (Ba  (None, 32, 32, 256)          1024      ['conv2d_35[0][0]']           \n",
            " tchNormalization)                                                                                \n",
            "                                                                                                  \n",
            " batch_normalization_36 (Ba  (None, 32, 32, 256)          1024      ['conv2d_36[0][0]']           \n",
            " tchNormalization)                                                                                \n",
            "                                                                                                  \n",
            " add_8 (Add)                 (None, 32, 32, 256)          0         ['batch_normalization_35[0][0]\n",
            "                                                                    ',                            \n",
            "                                                                     'batch_normalization_36[0][0]\n",
            "                                                                    ']                            \n",
            "                                                                                                  \n",
            " activation_27 (Activation)  (None, 32, 32, 256)          0         ['add_8[0][0]']               \n",
            "                                                                                                  \n",
            " global_average_pooling2d (  (None, 256)                  0         ['activation_27[0][0]']       \n",
            " GlobalAveragePooling2D)                                                                          \n",
            "                                                                                                  \n",
            " dense (Dense)               (None, 10)                   2570      ['global_average_pooling2d[0][\n",
            "                                                                    0]']                          \n",
            "                                                                                                  \n",
            "==================================================================================================\n",
            "Total params: 497066 (1.90 MB)\n",
            "Trainable params: 490314 (1.87 MB)\n",
            "Non-trainable params: 6752 (26.38 KB)\n",
            "__________________________________________________________________________________________________\n"
          ]
        }
      ]
    }
  ],
  "metadata": {
    "accelerator": "GPU",
    "colab": {
      "provenance": [],
      "include_colab_link": true
    },
    "kernelspec": {
      "display_name": "Python 3",
      "name": "python3"
    },
    "language_info": {
      "name": "python"
    }
  },
  "nbformat": 4,
  "nbformat_minor": 0
}